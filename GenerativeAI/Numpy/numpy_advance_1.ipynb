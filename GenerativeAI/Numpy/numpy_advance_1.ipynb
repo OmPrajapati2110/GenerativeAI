{
 "cells": [
  {
   "cell_type": "code",
   "execution_count": null,
   "id": "44ca8014-351b-483c-b290-a95927391de4",
   "metadata": {
    "id": "44ca8014-351b-483c-b290-a95927391de4"
   },
   "outputs": [],
   "source": [
    "import numpy as np"
   ]
  },
  {
   "cell_type": "code",
   "execution_count": null,
   "id": "43362f1a-9bd5-4403-b3ad-d85faf9be5ca",
   "metadata": {
    "id": "43362f1a-9bd5-4403-b3ad-d85faf9be5ca"
   },
   "outputs": [],
   "source": [
    "a = np.zeros(5) #Return a new array of given shape and type, filled with zeros."
   ]
  },
  {
   "cell_type": "code",
   "execution_count": null,
   "id": "fa4d81b6-7e64-4140-a4c2-0b9126216cdb",
   "metadata": {
    "id": "fa4d81b6-7e64-4140-a4c2-0b9126216cdb",
    "outputId": "8602592c-78f5-4e8f-d8d8-ccb3a77ebe91"
   },
   "outputs": [
    {
     "data": {
      "text/plain": [
       "array([0., 0., 0., 0., 0.])"
      ]
     },
     "execution_count": 3,
     "metadata": {},
     "output_type": "execute_result"
    }
   ],
   "source": [
    "a"
   ]
  },
  {
   "cell_type": "code",
   "execution_count": null,
   "id": "0d8f985c-05fd-4ad8-9061-2829917faa01",
   "metadata": {
    "id": "0d8f985c-05fd-4ad8-9061-2829917faa01",
    "outputId": "0382f959-b2c0-4540-e1b1-723e9a2a0db8"
   },
   "outputs": [
    {
     "data": {
      "text/plain": [
       "1"
      ]
     },
     "execution_count": 4,
     "metadata": {},
     "output_type": "execute_result"
    }
   ],
   "source": [
    "a.ndim"
   ]
  },
  {
   "cell_type": "code",
   "execution_count": null,
   "id": "5c9be372-6905-477f-a013-e6d21bd8f0ab",
   "metadata": {
    "id": "5c9be372-6905-477f-a013-e6d21bd8f0ab"
   },
   "outputs": [],
   "source": [
    "b = np.zeros((3, 4))"
   ]
  },
  {
   "cell_type": "code",
   "execution_count": null,
   "id": "5e716bae-c65b-4b32-9f1d-c41d85d937a7",
   "metadata": {
    "id": "5e716bae-c65b-4b32-9f1d-c41d85d937a7",
    "outputId": "8fcb3e9f-f1c0-4cf2-8b2b-c803eb09dc68"
   },
   "outputs": [
    {
     "data": {
      "text/plain": [
       "2"
      ]
     },
     "execution_count": 6,
     "metadata": {},
     "output_type": "execute_result"
    }
   ],
   "source": [
    "b.ndim"
   ]
  },
  {
   "cell_type": "code",
   "execution_count": null,
   "id": "45c7aecb-82fe-46f9-8f07-8205e42d575e",
   "metadata": {
    "id": "45c7aecb-82fe-46f9-8f07-8205e42d575e",
    "outputId": "4b6ace79-a62e-4704-d4e7-32c081b54cc1"
   },
   "outputs": [
    {
     "data": {
      "text/plain": [
       "array([[1., 1., 1., 1.],\n",
       "       [1., 1., 1., 1.],\n",
       "       [1., 1., 1., 1.]])"
      ]
     },
     "execution_count": 7,
     "metadata": {},
     "output_type": "execute_result"
    }
   ],
   "source": [
    "np.ones((3, 4))"
   ]
  },
  {
   "cell_type": "code",
   "execution_count": null,
   "id": "4355cbe0-6a08-43df-865e-79a2c05ef255",
   "metadata": {
    "id": "4355cbe0-6a08-43df-865e-79a2c05ef255",
    "outputId": "b47eb9df-0a8f-4084-a038-d9be0e4f7db7"
   },
   "outputs": [
    {
     "ename": "AttributeError",
     "evalue": "module 'numpy' has no attribute 'twos'",
     "output_type": "error",
     "traceback": [
      "\u001b[0;31m---------------------------------------------------------------------------\u001b[0m",
      "\u001b[0;31mAttributeError\u001b[0m                            Traceback (most recent call last)",
      "Cell \u001b[0;32mIn[8], line 1\u001b[0m\n\u001b[0;32m----> 1\u001b[0m \u001b[43mnp\u001b[49m\u001b[38;5;241;43m.\u001b[39;49m\u001b[43mtwos\u001b[49m(\u001b[38;5;241m5\u001b[39m) \u001b[38;5;66;03m#doesnt exist in numpy\u001b[39;00m\n",
      "File \u001b[0;32m/opt/conda/lib/python3.10/site-packages/numpy/__init__.py:311\u001b[0m, in \u001b[0;36m__getattr__\u001b[0;34m(attr)\u001b[0m\n\u001b[1;32m    308\u001b[0m     \u001b[38;5;28;01mfrom\u001b[39;00m \u001b[38;5;21;01m.\u001b[39;00m\u001b[38;5;21;01mtesting\u001b[39;00m \u001b[38;5;28;01mimport\u001b[39;00m Tester\n\u001b[1;32m    309\u001b[0m     \u001b[38;5;28;01mreturn\u001b[39;00m Tester\n\u001b[0;32m--> 311\u001b[0m \u001b[38;5;28;01mraise\u001b[39;00m \u001b[38;5;167;01mAttributeError\u001b[39;00m(\u001b[38;5;124m\"\u001b[39m\u001b[38;5;124mmodule \u001b[39m\u001b[38;5;132;01m{!r}\u001b[39;00m\u001b[38;5;124m has no attribute \u001b[39m\u001b[38;5;124m\"\u001b[39m\n\u001b[1;32m    312\u001b[0m                      \u001b[38;5;124m\"\u001b[39m\u001b[38;5;132;01m{!r}\u001b[39;00m\u001b[38;5;124m\"\u001b[39m\u001b[38;5;241m.\u001b[39mformat(\u001b[38;5;18m__name__\u001b[39m, attr))\n",
      "\u001b[0;31mAttributeError\u001b[0m: module 'numpy' has no attribute 'twos'"
     ]
    }
   ],
   "source": [
    "np.twos(5) #doesnt exist in numpy"
   ]
  },
  {
   "cell_type": "code",
   "execution_count": null,
   "id": "4dcdd32b-2fde-4c2f-9acc-278d43adef71",
   "metadata": {
    "id": "4dcdd32b-2fde-4c2f-9acc-278d43adef71",
    "outputId": "dde2f187-0ef9-46d8-f3b4-5d3473cdebee"
   },
   "outputs": [
    {
     "data": {
      "text/plain": [
       "array([[2, 2, 2],\n",
       "       [2, 2, 2]])"
      ]
     },
     "execution_count": 9,
     "metadata": {},
     "output_type": "execute_result"
    }
   ],
   "source": [
    "np.array([[2, 2, 2], [2, 2, 2]])"
   ]
  },
  {
   "cell_type": "code",
   "execution_count": null,
   "id": "daff2b79-e8e3-485e-b708-ba18d8132a26",
   "metadata": {
    "id": "daff2b79-e8e3-485e-b708-ba18d8132a26"
   },
   "outputs": [],
   "source": [
    "arr = np.zeros((3, 4))"
   ]
  },
  {
   "cell_type": "code",
   "execution_count": null,
   "id": "5c39b0d2-8cc6-4800-9c57-a0f3ad2320f5",
   "metadata": {
    "id": "5c39b0d2-8cc6-4800-9c57-a0f3ad2320f5",
    "outputId": "aa3bb9cd-0c12-4530-de9d-e0b2a12d5a24"
   },
   "outputs": [
    {
     "data": {
      "text/plain": [
       "array([[0., 0., 0., 0.],\n",
       "       [0., 0., 0., 0.],\n",
       "       [0., 0., 0., 0.]])"
      ]
     },
     "execution_count": 11,
     "metadata": {},
     "output_type": "execute_result"
    }
   ],
   "source": [
    "arr"
   ]
  },
  {
   "cell_type": "code",
   "execution_count": null,
   "id": "2bfc7bdb-363a-4527-bcb3-f6ac8267a78f",
   "metadata": {
    "id": "2bfc7bdb-363a-4527-bcb3-f6ac8267a78f",
    "outputId": "c53741f7-4015-46d0-84e9-311e1ef2c3c2"
   },
   "outputs": [
    {
     "data": {
      "text/plain": [
       "2"
      ]
     },
     "execution_count": 12,
     "metadata": {},
     "output_type": "execute_result"
    }
   ],
   "source": [
    "arr.ndim"
   ]
  },
  {
   "cell_type": "code",
   "execution_count": null,
   "id": "f262f1e3-a7fc-49df-8d0f-3a7f48c1f1c5",
   "metadata": {
    "id": "f262f1e3-a7fc-49df-8d0f-3a7f48c1f1c5",
    "outputId": "694745da-d9e5-4319-9be2-2b42c862b217"
   },
   "outputs": [
    {
     "data": {
      "text/plain": [
       "array([0.])"
      ]
     },
     "execution_count": 13,
     "metadata": {},
     "output_type": "execute_result"
    }
   ],
   "source": [
    "#3 dimensional array\n",
    "np.zeros(1)"
   ]
  },
  {
   "cell_type": "code",
   "execution_count": null,
   "id": "3f388764-a30e-4651-8039-f7a5c7e97676",
   "metadata": {
    "id": "3f388764-a30e-4651-8039-f7a5c7e97676",
    "outputId": "df3dfefc-6b3f-41e9-c034-082401f3cf39"
   },
   "outputs": [
    {
     "data": {
      "text/plain": [
       "array([[0., 0., 0.],\n",
       "       [0., 0., 0.]])"
      ]
     },
     "execution_count": 14,
     "metadata": {},
     "output_type": "execute_result"
    }
   ],
   "source": [
    "np.zeros((2, 3))"
   ]
  },
  {
   "cell_type": "code",
   "execution_count": null,
   "id": "fd002b52-e163-4187-935c-f32c161b56cc",
   "metadata": {
    "id": "fd002b52-e163-4187-935c-f32c161b56cc",
    "outputId": "0345bab4-1a03-431e-c887-c1faf6574438"
   },
   "outputs": [
    {
     "data": {
      "text/plain": [
       "2"
      ]
     },
     "execution_count": 15,
     "metadata": {},
     "output_type": "execute_result"
    }
   ],
   "source": [
    "arr = np.zeros((3, 4))\n",
    "arr.ndim"
   ]
  },
  {
   "cell_type": "code",
   "execution_count": null,
   "id": "18772d3b-8fad-4b9f-ab91-471ffeb7c4b5",
   "metadata": {
    "id": "18772d3b-8fad-4b9f-ab91-471ffeb7c4b5",
    "outputId": "1094c602-08c6-4b0f-a844-dd86ec7ca9ac"
   },
   "outputs": [
    {
     "data": {
      "text/plain": [
       "array([[[0., 0., 0., 0.],\n",
       "        [0., 0., 0., 0.],\n",
       "        [0., 0., 0., 0.]]])"
      ]
     },
     "execution_count": 16,
     "metadata": {},
     "output_type": "execute_result"
    }
   ],
   "source": [
    "arr = np.zeros((1, 3, 4))\n",
    "arr"
   ]
  },
  {
   "cell_type": "code",
   "execution_count": null,
   "id": "21ffd624-a389-4f5c-9dc1-7929227ef9a0",
   "metadata": {
    "id": "21ffd624-a389-4f5c-9dc1-7929227ef9a0",
    "outputId": "3cf00f2d-555c-4f6c-93d0-435a30b973f6"
   },
   "outputs": [
    {
     "data": {
      "text/plain": [
       "3"
      ]
     },
     "execution_count": 17,
     "metadata": {},
     "output_type": "execute_result"
    }
   ],
   "source": [
    "arr.ndim"
   ]
  },
  {
   "cell_type": "code",
   "execution_count": null,
   "id": "e27e5bfa-e53d-4252-b85b-2445afa4ced0",
   "metadata": {
    "id": "e27e5bfa-e53d-4252-b85b-2445afa4ced0",
    "outputId": "14e83148-de64-4956-ec91-8acbb3218b8f"
   },
   "outputs": [
    {
     "data": {
      "text/plain": [
       "array([[[[0., 0., 0., 0.],\n",
       "         [0., 0., 0., 0.],\n",
       "         [0., 0., 0., 0.]]]])"
      ]
     },
     "execution_count": 18,
     "metadata": {},
     "output_type": "execute_result"
    }
   ],
   "source": [
    "arr = np.zeros((1, 1, 3, 4))\n",
    "arr"
   ]
  },
  {
   "cell_type": "code",
   "execution_count": null,
   "id": "ff9fa435-9644-4016-8eba-0b7b9a041c1c",
   "metadata": {
    "id": "ff9fa435-9644-4016-8eba-0b7b9a041c1c",
    "outputId": "4ba15c08-4d2f-42f3-bfb8-67618b7202be"
   },
   "outputs": [
    {
     "data": {
      "text/plain": [
       "4"
      ]
     },
     "execution_count": 19,
     "metadata": {},
     "output_type": "execute_result"
    }
   ],
   "source": [
    "arr.ndim"
   ]
  },
  {
   "cell_type": "code",
   "execution_count": null,
   "id": "76d71089-cfca-4965-9a51-1c65b1ae53d4",
   "metadata": {
    "id": "76d71089-cfca-4965-9a51-1c65b1ae53d4",
    "outputId": "6ed52b96-705e-4688-f032-5c256c631f08"
   },
   "outputs": [
    {
     "data": {
      "text/plain": [
       "array([[[[[0., 0., 0., 0.],\n",
       "          [0., 0., 0., 0.],\n",
       "          [0., 0., 0., 0.]]]]])"
      ]
     },
     "execution_count": 20,
     "metadata": {},
     "output_type": "execute_result"
    }
   ],
   "source": [
    "arr = np.zeros((1, 1, 1, 3, 4))\n",
    "arr"
   ]
  },
  {
   "cell_type": "code",
   "execution_count": null,
   "id": "00673d67-b6cb-480e-8ec7-c2478f9b3789",
   "metadata": {
    "id": "00673d67-b6cb-480e-8ec7-c2478f9b3789",
    "outputId": "8d2fba27-84b0-4d85-8e6d-5ebee25de0b1"
   },
   "outputs": [
    {
     "data": {
      "text/plain": [
       "5"
      ]
     },
     "execution_count": 21,
     "metadata": {},
     "output_type": "execute_result"
    }
   ],
   "source": [
    "arr.ndim"
   ]
  },
  {
   "cell_type": "code",
   "execution_count": null,
   "id": "a89e6203-7592-4856-8050-92424d403648",
   "metadata": {
    "id": "a89e6203-7592-4856-8050-92424d403648",
    "outputId": "820d1af5-5f88-4095-f9d1-a22acf9b3cc8"
   },
   "outputs": [
    {
     "data": {
      "text/plain": [
       "array([[[[[0., 0., 0., 0.],\n",
       "          [0., 0., 0., 0.],\n",
       "          [0., 0., 0., 0.]]]]])"
      ]
     },
     "execution_count": 22,
     "metadata": {},
     "output_type": "execute_result"
    }
   ],
   "source": [
    "arr"
   ]
  },
  {
   "cell_type": "code",
   "execution_count": null,
   "id": "7c5df2cf-8549-4d4f-a72d-0deea28e3204",
   "metadata": {
    "id": "7c5df2cf-8549-4d4f-a72d-0deea28e3204"
   },
   "outputs": [],
   "source": [
    "arr = np.ones((3, 4))"
   ]
  },
  {
   "cell_type": "code",
   "execution_count": null,
   "id": "da497c3e-cdb4-4d10-a704-aa18f4c240d5",
   "metadata": {
    "id": "da497c3e-cdb4-4d10-a704-aa18f4c240d5",
    "outputId": "9e6a49c8-2443-4aa2-a178-a0b17f592746"
   },
   "outputs": [
    {
     "data": {
      "text/plain": [
       "2"
      ]
     },
     "execution_count": 24,
     "metadata": {},
     "output_type": "execute_result"
    }
   ],
   "source": [
    "arr.ndim"
   ]
  },
  {
   "cell_type": "code",
   "execution_count": null,
   "id": "669c2182-8019-4212-9de9-7940e7525d5f",
   "metadata": {
    "id": "669c2182-8019-4212-9de9-7940e7525d5f",
    "outputId": "c9899102-a321-42a0-852e-666daeabff53"
   },
   "outputs": [
    {
     "data": {
      "text/plain": [
       "(3, 4)"
      ]
     },
     "execution_count": 25,
     "metadata": {},
     "output_type": "execute_result"
    }
   ],
   "source": [
    "arr.shape"
   ]
  },
  {
   "cell_type": "code",
   "execution_count": null,
   "id": "ffaef6ee-77ab-4b41-922e-d454c723a1c8",
   "metadata": {
    "id": "ffaef6ee-77ab-4b41-922e-d454c723a1c8",
    "outputId": "8a17b7cb-2205-4ec3-fef8-b186aac43f29"
   },
   "outputs": [
    {
     "data": {
      "text/plain": [
       "array([[1., 1., 1., 1.],\n",
       "       [1., 1., 1., 1.],\n",
       "       [1., 1., 1., 1.]])"
      ]
     },
     "execution_count": 26,
     "metadata": {},
     "output_type": "execute_result"
    }
   ],
   "source": [
    "arr"
   ]
  },
  {
   "cell_type": "code",
   "execution_count": null,
   "id": "ed45b0d9-f432-4981-ac48-2c645952e042",
   "metadata": {
    "id": "ed45b0d9-f432-4981-ac48-2c645952e042",
    "outputId": "f9d4f917-af18-47fa-fe84-54c12e51fdb0"
   },
   "outputs": [
    {
     "data": {
      "text/plain": [
       "array([[6., 6., 6., 6.],\n",
       "       [6., 6., 6., 6.],\n",
       "       [6., 6., 6., 6.]])"
      ]
     },
     "execution_count": 27,
     "metadata": {},
     "output_type": "execute_result"
    }
   ],
   "source": [
    "arr + 5"
   ]
  },
  {
   "cell_type": "code",
   "execution_count": null,
   "id": "355d721e-d224-48f5-bef5-873279717c1b",
   "metadata": {
    "id": "355d721e-d224-48f5-bef5-873279717c1b"
   },
   "outputs": [],
   "source": [
    "a = arr * 5"
   ]
  },
  {
   "cell_type": "code",
   "execution_count": null,
   "id": "9b7e8e40-8f5c-457d-a0c9-d30ec3c0554a",
   "metadata": {
    "id": "9b7e8e40-8f5c-457d-a0c9-d30ec3c0554a",
    "outputId": "6b5ca789-f8f6-45f2-a103-60821f764065"
   },
   "outputs": [
    {
     "data": {
      "text/plain": [
       "array([[5., 5., 5., 5.],\n",
       "       [5., 5., 5., 5.],\n",
       "       [5., 5., 5., 5.]])"
      ]
     },
     "execution_count": 29,
     "metadata": {},
     "output_type": "execute_result"
    }
   ],
   "source": [
    "a"
   ]
  },
  {
   "cell_type": "code",
   "execution_count": null,
   "id": "383c473d-880a-4d42-a924-bd1fa770c696",
   "metadata": {
    "id": "383c473d-880a-4d42-a924-bd1fa770c696",
    "outputId": "e36e5d9f-1ec6-434a-c78f-f618f6d1a727"
   },
   "outputs": [
    {
     "data": {
      "text/plain": [
       "array([[4., 4., 4., 4.],\n",
       "       [4., 4., 4., 4.],\n",
       "       [4., 4., 4., 4.]])"
      ]
     },
     "execution_count": 30,
     "metadata": {},
     "output_type": "execute_result"
    }
   ],
   "source": [
    "a - 1"
   ]
  },
  {
   "cell_type": "code",
   "execution_count": null,
   "id": "62799cf5-ea5a-47b2-b607-8df5d0780c4f",
   "metadata": {
    "id": "62799cf5-ea5a-47b2-b607-8df5d0780c4f",
    "outputId": "62124b64-6434-48d0-9250-247942b6f5cc"
   },
   "outputs": [
    {
     "data": {
      "text/plain": [
       "array([[1., 0., 0.],\n",
       "       [0., 1., 0.],\n",
       "       [0., 0., 1.]])"
      ]
     },
     "execution_count": 31,
     "metadata": {},
     "output_type": "execute_result"
    }
   ],
   "source": [
    "np.eye(3) #Return a 2-D array with ones on the diagonal and zeros elsewhere."
   ]
  },
  {
   "cell_type": "code",
   "execution_count": null,
   "id": "93b3ee4c-a527-495e-8654-3226a3a1dda3",
   "metadata": {
    "id": "93b3ee4c-a527-495e-8654-3226a3a1dda3",
    "outputId": "4783592f-c38c-48b1-ee06-e195f51108a1"
   },
   "outputs": [
    {
     "data": {
      "text/plain": [
       "array([[1, 0, 0],\n",
       "       [0, 1, 0],\n",
       "       [0, 0, 1]])"
      ]
     },
     "execution_count": 32,
     "metadata": {},
     "output_type": "execute_result"
    }
   ],
   "source": [
    "np.eye(3, dtype = int)"
   ]
  },
  {
   "cell_type": "code",
   "execution_count": null,
   "id": "5f11bff4-ed87-400b-a391-1621f182c77f",
   "metadata": {
    "id": "5f11bff4-ed87-400b-a391-1621f182c77f",
    "outputId": "17387839-539e-487a-a763-11e946a8b12a"
   },
   "outputs": [
    {
     "data": {
      "text/plain": [
       "array([[4., 4., 4., 4.],\n",
       "       [4., 4., 4., 4.],\n",
       "       [4., 4., 4., 4.]])"
      ]
     },
     "execution_count": 33,
     "metadata": {},
     "output_type": "execute_result"
    }
   ],
   "source": [
    "np.empty((3, 4)) #Return a new array of given shape and type, without initializing entries"
   ]
  },
  {
   "cell_type": "code",
   "execution_count": null,
   "id": "c76174ff-1ec6-4db4-b664-6cbf5e7dce89",
   "metadata": {
    "id": "c76174ff-1ec6-4db4-b664-6cbf5e7dce89",
    "outputId": "57197c87-6c54-4584-b14f-915e3c53f07b"
   },
   "outputs": [
    {
     "data": {
      "text/plain": [
       "2"
      ]
     },
     "execution_count": 34,
     "metadata": {},
     "output_type": "execute_result"
    }
   ],
   "source": [
    "#optional >> random module\n",
    "\n",
    "import random\n",
    "random.choice((1, 2, 3, 4, 5))"
   ]
  },
  {
   "cell_type": "code",
   "execution_count": null,
   "id": "fad25f05-e2d4-4bb7-86ad-52cfcd73ccbc",
   "metadata": {
    "id": "fad25f05-e2d4-4bb7-86ad-52cfcd73ccbc",
    "outputId": "9b42dcf1-995e-4084-ee8a-05aa7169c21c"
   },
   "outputs": [
    {
     "data": {
      "text/plain": [
       "'a'"
      ]
     },
     "execution_count": 35,
     "metadata": {},
     "output_type": "execute_result"
    }
   ],
   "source": [
    "random.choice('Ajay')"
   ]
  },
  {
   "cell_type": "code",
   "execution_count": null,
   "id": "38d9a037-9158-4f52-a258-143374197d74",
   "metadata": {
    "id": "38d9a037-9158-4f52-a258-143374197d74",
    "outputId": "18bc8672-7a7d-4348-e27d-185afb7aba2b"
   },
   "outputs": [
    {
     "data": {
      "text/plain": [
       "7"
      ]
     },
     "execution_count": 36,
     "metadata": {},
     "output_type": "execute_result"
    }
   ],
   "source": [
    "random.randrange(1, 10)"
   ]
  },
  {
   "cell_type": "code",
   "execution_count": null,
   "id": "ffda2f1e-4da6-46eb-9263-d14244bc52f6",
   "metadata": {
    "id": "ffda2f1e-4da6-46eb-9263-d14244bc52f6",
    "outputId": "b26d8705-3caf-4bdc-f314-7cbda47e101c"
   },
   "outputs": [
    {
     "data": {
      "text/plain": [
       "0.017769477320319083"
      ]
     },
     "execution_count": 37,
     "metadata": {},
     "output_type": "execute_result"
    }
   ],
   "source": [
    "random.random() # a random no is generated between 0(included) and 1 (excluded)"
   ]
  },
  {
   "cell_type": "code",
   "execution_count": null,
   "id": "ee29af67-e24f-4bec-ad7c-2c1d9eb7664f",
   "metadata": {
    "id": "ee29af67-e24f-4bec-ad7c-2c1d9eb7664f",
    "outputId": "fcb0164c-3c65-424f-95d8-5c5a854d477a"
   },
   "outputs": [
    {
     "data": {
      "text/plain": [
       "[1, 2, 3, 4, 5]"
      ]
     },
     "execution_count": 38,
     "metadata": {},
     "output_type": "execute_result"
    }
   ],
   "source": [
    "lis = [1, 2, 3, 4, 5]\n",
    "lis"
   ]
  },
  {
   "cell_type": "code",
   "execution_count": null,
   "id": "544a16ab-a701-401c-b382-59e2d5d096b4",
   "metadata": {
    "id": "544a16ab-a701-401c-b382-59e2d5d096b4"
   },
   "outputs": [],
   "source": [
    "random.shuffle(lis)"
   ]
  },
  {
   "cell_type": "code",
   "execution_count": null,
   "id": "05257b67-5ead-4f27-8542-71d511bfead6",
   "metadata": {
    "id": "05257b67-5ead-4f27-8542-71d511bfead6",
    "outputId": "3b1e4f79-618b-4207-c8f1-963c7a3a9e26"
   },
   "outputs": [
    {
     "data": {
      "text/plain": [
       "[2, 3, 1, 4, 5]"
      ]
     },
     "execution_count": 41,
     "metadata": {},
     "output_type": "execute_result"
    }
   ],
   "source": [
    "lis"
   ]
  },
  {
   "cell_type": "code",
   "execution_count": null,
   "id": "d5158ca4-053d-4b99-af8e-f08a0ae7f4e4",
   "metadata": {
    "id": "d5158ca4-053d-4b99-af8e-f08a0ae7f4e4",
    "outputId": "8ae365da-0157-42a0-b249-1be3c6d54cfd"
   },
   "outputs": [
    {
     "data": {
      "text/plain": [
       "12.573243031183921"
      ]
     },
     "execution_count": 42,
     "metadata": {},
     "output_type": "execute_result"
    }
   ],
   "source": [
    "random.uniform(7, 14)"
   ]
  },
  {
   "cell_type": "code",
   "execution_count": null,
   "id": "b477c370-234b-4832-a922-e0dd1697d142",
   "metadata": {
    "id": "b477c370-234b-4832-a922-e0dd1697d142",
    "outputId": "b7cabbbe-dee4-4911-b0d4-555a44a7a6cb"
   },
   "outputs": [
    {
     "data": {
      "text/plain": [
       "array([], dtype=float64)"
      ]
     },
     "execution_count": 43,
     "metadata": {},
     "output_type": "execute_result"
    }
   ],
   "source": [
    "\n",
    "#random numbers related concepts in numpy\n",
    "np.array([])"
   ]
  },
  {
   "cell_type": "code",
   "execution_count": null,
   "id": "4aa6845b-5c4c-4c09-b7e3-2a23e1780cf7",
   "metadata": {
    "id": "4aa6845b-5c4c-4c09-b7e3-2a23e1780cf7",
    "outputId": "ae85f0de-7028-43b4-9ff4-6b64feafdeb2"
   },
   "outputs": [
    {
     "data": {
      "text/plain": [
       "0.4880220291522446"
      ]
     },
     "execution_count": 44,
     "metadata": {},
     "output_type": "execute_result"
    }
   ],
   "source": [
    "np.random.random_sample()"
   ]
  },
  {
   "cell_type": "code",
   "execution_count": null,
   "id": "6541deae-cd20-4a53-a495-45be93b83367",
   "metadata": {
    "id": "6541deae-cd20-4a53-a495-45be93b83367",
    "outputId": "98fb9069-9982-4920-8000-81abb80a4513"
   },
   "outputs": [
    {
     "data": {
      "text/plain": [
       "array([0.03546162, 0.96439444, 0.86559857, 0.45990473, 0.68239288])"
      ]
     },
     "execution_count": 45,
     "metadata": {},
     "output_type": "execute_result"
    }
   ],
   "source": [
    "np.random.random_sample((5, ))"
   ]
  },
  {
   "cell_type": "code",
   "execution_count": null,
   "id": "8e3780fc-0d6c-4c6b-9e13-45e109e65bad",
   "metadata": {
    "id": "8e3780fc-0d6c-4c6b-9e13-45e109e65bad",
    "outputId": "03fded67-ca12-48f9-97c6-af84b4c342cb"
   },
   "outputs": [
    {
     "data": {
      "text/plain": [
       "array([0.89826893])"
      ]
     },
     "execution_count": 46,
     "metadata": {},
     "output_type": "execute_result"
    }
   ],
   "source": [
    "np.random.rand(1)"
   ]
  },
  {
   "cell_type": "code",
   "execution_count": null,
   "id": "ff009fb7-b554-4192-a181-a2160efa9a21",
   "metadata": {
    "id": "ff009fb7-b554-4192-a181-a2160efa9a21",
    "outputId": "048473f2-dfe6-427e-cd07-7cb4b523c284"
   },
   "outputs": [
    {
     "data": {
      "text/plain": [
       "array([[0.19956744, 0.85663567, 0.76798966],\n",
       "       [0.01678481, 0.29287439, 0.5507118 ]])"
      ]
     },
     "execution_count": 48,
     "metadata": {},
     "output_type": "execute_result"
    }
   ],
   "source": [
    "np.random.rand(2, 3)"
   ]
  },
  {
   "cell_type": "code",
   "execution_count": null,
   "id": "8dc11cab-0863-4323-8de8-e5e976643d1b",
   "metadata": {
    "id": "8dc11cab-0863-4323-8de8-e5e976643d1b",
    "outputId": "75156622-943e-4381-efab-472ed8d564a5"
   },
   "outputs": [
    {
     "data": {
      "text/plain": [
       "array([[-0.85502332, -0.06881989,  0.76879661],\n",
       "       [ 0.64187717,  1.46547139, -1.07173591]])"
      ]
     },
     "execution_count": 49,
     "metadata": {},
     "output_type": "execute_result"
    }
   ],
   "source": [
    "np.random.randn(2,3)"
   ]
  },
  {
   "cell_type": "code",
   "execution_count": null,
   "id": "54a14933-6a65-46f3-b149-6c41b90052a7",
   "metadata": {
    "id": "54a14933-6a65-46f3-b149-6c41b90052a7"
   },
   "outputs": [],
   "source": [
    "arr = np.random.randint(1, 5, size= (3, 4))"
   ]
  },
  {
   "cell_type": "code",
   "execution_count": null,
   "id": "acce08c2-9fc1-4bbe-96b4-200d795ca122",
   "metadata": {
    "id": "acce08c2-9fc1-4bbe-96b4-200d795ca122",
    "outputId": "a9cd5782-2c2d-4c47-a088-3029d84edd46"
   },
   "outputs": [
    {
     "data": {
      "text/plain": [
       "2"
      ]
     },
     "execution_count": 52,
     "metadata": {},
     "output_type": "execute_result"
    }
   ],
   "source": [
    "arr.ndim"
   ]
  },
  {
   "cell_type": "code",
   "execution_count": null,
   "id": "49967864-be80-438b-a270-7df6e2e9d5fa",
   "metadata": {
    "id": "49967864-be80-438b-a270-7df6e2e9d5fa",
    "outputId": "ca9d98a7-ca59-4e68-cc4d-8e250c4a30e6"
   },
   "outputs": [
    {
     "data": {
      "text/plain": [
       "(3, 4)"
      ]
     },
     "execution_count": 53,
     "metadata": {},
     "output_type": "execute_result"
    }
   ],
   "source": [
    "arr.shape"
   ]
  },
  {
   "cell_type": "code",
   "execution_count": null,
   "id": "74126a55-b7f9-4836-a89c-d35b57322166",
   "metadata": {
    "id": "74126a55-b7f9-4836-a89c-d35b57322166",
    "outputId": "6c2104aa-e0b3-4523-937f-493d37eed0af"
   },
   "outputs": [
    {
     "data": {
      "text/plain": [
       "12"
      ]
     },
     "execution_count": 54,
     "metadata": {},
     "output_type": "execute_result"
    }
   ],
   "source": [
    "arr.size"
   ]
  },
  {
   "cell_type": "code",
   "execution_count": null,
   "id": "69e584fc-05ea-41d9-96fd-e1b8184a00a8",
   "metadata": {
    "id": "69e584fc-05ea-41d9-96fd-e1b8184a00a8",
    "outputId": "7bd1157a-acde-4658-c9de-d738c72a1bc5"
   },
   "outputs": [
    {
     "data": {
      "text/plain": [
       "array([[1, 3, 3, 4],\n",
       "       [4, 3, 3, 3],\n",
       "       [4, 4, 1, 4]])"
      ]
     },
     "execution_count": 55,
     "metadata": {},
     "output_type": "execute_result"
    }
   ],
   "source": [
    "arr"
   ]
  },
  {
   "cell_type": "code",
   "execution_count": null,
   "id": "527bd72f-274f-41d3-99aa-e343425160b2",
   "metadata": {
    "id": "527bd72f-274f-41d3-99aa-e343425160b2"
   },
   "outputs": [],
   "source": [
    "#reshaping the array\n",
    "\n",
    "arr1 = arr.reshape(2, 6)"
   ]
  },
  {
   "cell_type": "code",
   "execution_count": null,
   "id": "0da79790-af27-446e-b5d0-537e1943ac1b",
   "metadata": {
    "id": "0da79790-af27-446e-b5d0-537e1943ac1b",
    "outputId": "94128782-4603-48ee-8c47-f0eb70ef8185"
   },
   "outputs": [
    {
     "data": {
      "text/plain": [
       "(2, 6)"
      ]
     },
     "execution_count": 59,
     "metadata": {},
     "output_type": "execute_result"
    }
   ],
   "source": [
    "arr1.shape"
   ]
  },
  {
   "cell_type": "code",
   "execution_count": null,
   "id": "f4146778-88c0-4f87-8f52-1217cc1e22d3",
   "metadata": {
    "id": "f4146778-88c0-4f87-8f52-1217cc1e22d3",
    "outputId": "3b587798-ba5a-4399-fa9e-744dbbb57961"
   },
   "outputs": [
    {
     "data": {
      "text/plain": [
       "12"
      ]
     },
     "execution_count": 60,
     "metadata": {},
     "output_type": "execute_result"
    }
   ],
   "source": [
    "arr1.size"
   ]
  },
  {
   "cell_type": "code",
   "execution_count": null,
   "id": "91ba59c7-6274-4a00-8c99-fa19ef0a216b",
   "metadata": {
    "id": "91ba59c7-6274-4a00-8c99-fa19ef0a216b",
    "outputId": "132e76b4-75e5-49be-9686-48cdf6ccbcf4"
   },
   "outputs": [
    {
     "data": {
      "text/plain": [
       "array([[1, 3, 3, 4],\n",
       "       [4, 3, 3, 3],\n",
       "       [4, 4, 1, 4]])"
      ]
     },
     "execution_count": 61,
     "metadata": {},
     "output_type": "execute_result"
    }
   ],
   "source": [
    "arr"
   ]
  },
  {
   "cell_type": "code",
   "execution_count": null,
   "id": "5bfb2432-6c74-4902-aa5e-5bc388d499ed",
   "metadata": {
    "id": "5bfb2432-6c74-4902-aa5e-5bc388d499ed",
    "outputId": "f1f15a7c-fbc0-4fde-d0f4-aa086a519dab"
   },
   "outputs": [
    {
     "data": {
      "text/plain": [
       "12"
      ]
     },
     "execution_count": 62,
     "metadata": {},
     "output_type": "execute_result"
    }
   ],
   "source": [
    "arr.size"
   ]
  },
  {
   "cell_type": "code",
   "execution_count": null,
   "id": "03e8c1cc-f5cb-45df-be56-94358e321b89",
   "metadata": {
    "id": "03e8c1cc-f5cb-45df-be56-94358e321b89"
   },
   "outputs": [],
   "source": [
    "#array size will not change, always resape parameter should be multiplication of original array size"
   ]
  },
  {
   "cell_type": "code",
   "execution_count": null,
   "id": "f4e29afe-2451-439b-9e22-bfee3ff3eda3",
   "metadata": {
    "id": "f4e29afe-2451-439b-9e22-bfee3ff3eda3",
    "outputId": "0532d445-3a1f-49eb-95c0-66cf58d82910"
   },
   "outputs": [
    {
     "data": {
      "text/plain": [
       "array([[1, 3, 3, 4],\n",
       "       [4, 3, 3, 3],\n",
       "       [4, 4, 1, 4]])"
      ]
     },
     "execution_count": 64,
     "metadata": {},
     "output_type": "execute_result"
    }
   ],
   "source": [
    "arr"
   ]
  },
  {
   "cell_type": "code",
   "execution_count": null,
   "id": "1459e0d6-84ce-423a-a59a-b72b876d15ad",
   "metadata": {
    "id": "1459e0d6-84ce-423a-a59a-b72b876d15ad",
    "outputId": "4c6fbd63-cdb6-48a3-a381-36533c3de246"
   },
   "outputs": [
    {
     "data": {
      "text/plain": [
       "12"
      ]
     },
     "execution_count": 65,
     "metadata": {},
     "output_type": "execute_result"
    }
   ],
   "source": [
    "arr.size"
   ]
  },
  {
   "cell_type": "code",
   "execution_count": null,
   "id": "ebc425a5-59f9-4eed-8d0d-75bbb8967cd1",
   "metadata": {
    "id": "ebc425a5-59f9-4eed-8d0d-75bbb8967cd1",
    "outputId": "9bea4001-922b-4c9c-c619-bdd481da17d4"
   },
   "outputs": [
    {
     "data": {
      "text/plain": [
       "array([[1],\n",
       "       [3],\n",
       "       [3],\n",
       "       [4],\n",
       "       [4],\n",
       "       [3],\n",
       "       [3],\n",
       "       [3],\n",
       "       [4],\n",
       "       [4],\n",
       "       [1],\n",
       "       [4]])"
      ]
     },
     "execution_count": 69,
     "metadata": {},
     "output_type": "execute_result"
    }
   ],
   "source": [
    "arr.reshape(12,1)"
   ]
  },
  {
   "cell_type": "code",
   "execution_count": null,
   "id": "f6f326cc-b80b-42e9-8ef3-fa2f25d6afc9",
   "metadata": {
    "id": "f6f326cc-b80b-42e9-8ef3-fa2f25d6afc9",
    "outputId": "eb218219-7dba-458c-cfc5-e08392d8c067"
   },
   "outputs": [
    {
     "data": {
      "text/plain": [
       "array([[1, 3, 3, 4, 4, 3, 3, 3, 4, 4, 1, 4]])"
      ]
     },
     "execution_count": 70,
     "metadata": {},
     "output_type": "execute_result"
    }
   ],
   "source": [
    "arr.reshape(1, 12)"
   ]
  },
  {
   "cell_type": "code",
   "execution_count": null,
   "id": "4339058c-690b-49ec-8742-53bd02503bd3",
   "metadata": {
    "id": "4339058c-690b-49ec-8742-53bd02503bd3",
    "outputId": "17046139-5a10-421b-9a25-df934cfdd2b9"
   },
   "outputs": [
    {
     "ename": "ValueError",
     "evalue": "cannot reshape array of size 12 into shape (3,3)",
     "output_type": "error",
     "traceback": [
      "\u001b[0;31m---------------------------------------------------------------------------\u001b[0m",
      "\u001b[0;31mValueError\u001b[0m                                Traceback (most recent call last)",
      "Cell \u001b[0;32mIn[72], line 1\u001b[0m\n\u001b[0;32m----> 1\u001b[0m \u001b[43marr\u001b[49m\u001b[38;5;241;43m.\u001b[39;49m\u001b[43mreshape\u001b[49m\u001b[43m(\u001b[49m\u001b[38;5;241;43m3\u001b[39;49m\u001b[43m,\u001b[49m\u001b[43m \u001b[49m\u001b[38;5;241;43m3\u001b[39;49m\u001b[43m)\u001b[49m\n",
      "\u001b[0;31mValueError\u001b[0m: cannot reshape array of size 12 into shape (3,3)"
     ]
    }
   ],
   "source": [
    "arr.reshape(3, 3)"
   ]
  },
  {
   "cell_type": "code",
   "execution_count": null,
   "id": "9898742f-6fbf-4eba-a449-943b9777b796",
   "metadata": {
    "id": "9898742f-6fbf-4eba-a449-943b9777b796",
    "outputId": "7a052d5c-88af-410e-db21-f265cdd6b613"
   },
   "outputs": [
    {
     "data": {
      "text/plain": [
       "array([[1, 3, 3, 4],\n",
       "       [4, 3, 3, 3],\n",
       "       [4, 4, 1, 4]])"
      ]
     },
     "execution_count": 73,
     "metadata": {},
     "output_type": "execute_result"
    }
   ],
   "source": [
    "arr.reshape(3,4)"
   ]
  },
  {
   "cell_type": "code",
   "execution_count": null,
   "id": "596aecf4-9111-4562-a728-03ce125191ca",
   "metadata": {
    "id": "596aecf4-9111-4562-a728-03ce125191ca",
    "outputId": "c551b609-f865-4cee-83a6-e44fdf29d64f"
   },
   "outputs": [
    {
     "data": {
      "text/plain": [
       "array([[1, 3, 3],\n",
       "       [4, 4, 3],\n",
       "       [3, 3, 4],\n",
       "       [4, 1, 4]])"
      ]
     },
     "execution_count": 74,
     "metadata": {},
     "output_type": "execute_result"
    }
   ],
   "source": [
    "#case when you dont know in reshape what should be the column count\n",
    "\n",
    "arr.reshape(4, -1)"
   ]
  },
  {
   "cell_type": "code",
   "execution_count": null,
   "id": "615d0e81-9303-4b86-8890-de69e439794b",
   "metadata": {
    "id": "615d0e81-9303-4b86-8890-de69e439794b",
    "outputId": "03ac0dc2-5178-4973-c65a-d8a8a747e20e"
   },
   "outputs": [
    {
     "data": {
      "text/plain": [
       "array([[1, 3, 3, 4, 4, 3],\n",
       "       [3, 3, 4, 4, 1, 4]])"
      ]
     },
     "execution_count": 75,
     "metadata": {},
     "output_type": "execute_result"
    }
   ],
   "source": [
    "arr.reshape(2, -1)"
   ]
  },
  {
   "cell_type": "code",
   "execution_count": null,
   "id": "822da512-d20a-4bb6-a1d8-1af00d36e882",
   "metadata": {
    "id": "822da512-d20a-4bb6-a1d8-1af00d36e882",
    "outputId": "e3a2f12c-29f5-498f-d437-806f7ca5fb28"
   },
   "outputs": [
    {
     "data": {
      "text/plain": [
       "array([[1, 3, 3, 4, 4, 3],\n",
       "       [3, 3, 4, 4, 1, 4]])"
      ]
     },
     "execution_count": 76,
     "metadata": {},
     "output_type": "execute_result"
    }
   ],
   "source": [
    "arr.reshape(2, -100)"
   ]
  },
  {
   "cell_type": "code",
   "execution_count": null,
   "id": "5096fc24-0c03-45a5-b5f6-351ad62f9805",
   "metadata": {
    "id": "5096fc24-0c03-45a5-b5f6-351ad62f9805"
   },
   "outputs": [],
   "source": [
    "arr1 = arr.reshape(-1, 3)#you know column count but no row count"
   ]
  },
  {
   "cell_type": "code",
   "execution_count": null,
   "id": "efd4c6b5-4326-4ccf-bc79-6cc9b597cdf5",
   "metadata": {
    "id": "efd4c6b5-4326-4ccf-bc79-6cc9b597cdf5",
    "outputId": "089938de-a9fc-4345-b7b9-1de4771b09cc"
   },
   "outputs": [
    {
     "data": {
      "text/plain": [
       "12"
      ]
     },
     "execution_count": 79,
     "metadata": {},
     "output_type": "execute_result"
    }
   ],
   "source": [
    "arr1.size"
   ]
  },
  {
   "cell_type": "code",
   "execution_count": null,
   "id": "d8ba240d-71ff-4223-a1c3-b8658e7d85c2",
   "metadata": {
    "id": "d8ba240d-71ff-4223-a1c3-b8658e7d85c2",
    "outputId": "039fa5cd-4ea4-40a4-94ec-f9cd1dd8e6c0"
   },
   "outputs": [
    {
     "data": {
      "text/plain": [
       "array([[1],\n",
       "       [3],\n",
       "       [3],\n",
       "       [4],\n",
       "       [4],\n",
       "       [3],\n",
       "       [3],\n",
       "       [3],\n",
       "       [4],\n",
       "       [4],\n",
       "       [1],\n",
       "       [4]])"
      ]
     },
     "execution_count": 81,
     "metadata": {},
     "output_type": "execute_result"
    }
   ],
   "source": [
    "arr.reshape(12, 1)"
   ]
  },
  {
   "cell_type": "code",
   "execution_count": null,
   "id": "f52645c5-4b23-4caf-b891-f1659a749e56",
   "metadata": {
    "id": "f52645c5-4b23-4caf-b891-f1659a749e56",
    "outputId": "94fbd4fa-aebf-4b8a-a604-1c7c3279363b"
   },
   "outputs": [
    {
     "data": {
      "text/plain": [
       "array([[1, 3, 3, 4],\n",
       "       [4, 3, 3, 3],\n",
       "       [4, 4, 1, 4]])"
      ]
     },
     "execution_count": 82,
     "metadata": {},
     "output_type": "execute_result"
    }
   ],
   "source": [
    "arr.reshape(12, 1).base #to see the original array"
   ]
  },
  {
   "cell_type": "code",
   "execution_count": null,
   "id": "c9d64034-805f-4f1d-8ee3-c56b5c404cda",
   "metadata": {
    "id": "c9d64034-805f-4f1d-8ee3-c56b5c404cda",
    "outputId": "cd908a13-03e0-4251-a8b7-46ca774902cc"
   },
   "outputs": [
    {
     "data": {
      "text/plain": [
       "array([[[1, 3, 3],\n",
       "        [4, 4, 3]],\n",
       "\n",
       "       [[3, 3, 4],\n",
       "        [4, 1, 4]]])"
      ]
     },
     "execution_count": 85,
     "metadata": {},
     "output_type": "execute_result"
    }
   ],
   "source": [
    "arr.reshape(2, 2, 3)"
   ]
  },
  {
   "cell_type": "code",
   "execution_count": null,
   "id": "cb95a4a9-a272-430b-9c6b-6d1ea082ba9a",
   "metadata": {
    "id": "cb95a4a9-a272-430b-9c6b-6d1ea082ba9a",
    "outputId": "30ca67e7-b8c5-4be0-fc5e-15dd3e39793c"
   },
   "outputs": [
    {
     "data": {
      "text/plain": [
       "array([[[[1, 3, 3],\n",
       "         [4, 4, 3]],\n",
       "\n",
       "        [[3, 3, 4],\n",
       "         [4, 1, 4]]]])"
      ]
     },
     "execution_count": 86,
     "metadata": {},
     "output_type": "execute_result"
    }
   ],
   "source": [
    "arr.reshape(1, 2, 2, 3)"
   ]
  },
  {
   "cell_type": "code",
   "execution_count": null,
   "id": "f1d2e008-30f2-4b3b-91db-7a40b3ec0017",
   "metadata": {
    "id": "f1d2e008-30f2-4b3b-91db-7a40b3ec0017",
    "outputId": "09b90723-c8df-4fcf-add8-81e58ea0f197"
   },
   "outputs": [
    {
     "data": {
      "text/plain": [
       "4"
      ]
     },
     "execution_count": 87,
     "metadata": {},
     "output_type": "execute_result"
    }
   ],
   "source": [
    "arr.reshape(1, 2, 2, 3).ndim"
   ]
  },
  {
   "cell_type": "code",
   "execution_count": null,
   "id": "9cf9678d-4a65-46eb-a0b0-016cbec8b8e5",
   "metadata": {
    "id": "9cf9678d-4a65-46eb-a0b0-016cbec8b8e5",
    "outputId": "9afdccc4-5f20-4c8c-e0e6-da9b69846000"
   },
   "outputs": [
    {
     "data": {
      "text/plain": [
       "array([[[1],\n",
       "        [3],\n",
       "        [3]],\n",
       "\n",
       "       [[4],\n",
       "        [4],\n",
       "        [3]],\n",
       "\n",
       "       [[3],\n",
       "        [3],\n",
       "        [4]],\n",
       "\n",
       "       [[4],\n",
       "        [1],\n",
       "        [4]]])"
      ]
     },
     "execution_count": 88,
     "metadata": {},
     "output_type": "execute_result"
    }
   ],
   "source": [
    "arr.reshape(4, 3, 1) #3 rows 1 column repeated 4 times in the third dimension"
   ]
  },
  {
   "cell_type": "code",
   "execution_count": null,
   "id": "3f692812-9eeb-411c-a47a-fa111a8b8813",
   "metadata": {
    "id": "3f692812-9eeb-411c-a47a-fa111a8b8813"
   },
   "outputs": [],
   "source": [
    "#conditions on array\n",
    "\n",
    "arr1 = np.random.randint(1, 10, (5,6))"
   ]
  },
  {
   "cell_type": "code",
   "execution_count": null,
   "id": "87957d96-fd99-4109-8ede-682631947480",
   "metadata": {
    "id": "87957d96-fd99-4109-8ede-682631947480",
    "outputId": "dc371a62-e742-4bea-fa7d-3165a3137328"
   },
   "outputs": [
    {
     "data": {
      "text/plain": [
       "array([[3, 8, 8, 1, 1, 7],\n",
       "       [4, 4, 5, 5, 2, 5],\n",
       "       [2, 2, 9, 9, 2, 4],\n",
       "       [8, 5, 4, 1, 4, 9],\n",
       "       [7, 8, 4, 9, 6, 9]])"
      ]
     },
     "execution_count": 90,
     "metadata": {},
     "output_type": "execute_result"
    }
   ],
   "source": [
    "arr1"
   ]
  },
  {
   "cell_type": "code",
   "execution_count": null,
   "id": "ac9dba5b-98be-4ada-bf61-2af1e0ae4a3f",
   "metadata": {
    "id": "ac9dba5b-98be-4ada-bf61-2af1e0ae4a3f",
    "outputId": "b333f2d8-d149-4ff0-e736-b5c8efa39263"
   },
   "outputs": [
    {
     "data": {
      "text/plain": [
       "(5, 6)"
      ]
     },
     "execution_count": 91,
     "metadata": {},
     "output_type": "execute_result"
    }
   ],
   "source": [
    "arr1.shape"
   ]
  },
  {
   "cell_type": "code",
   "execution_count": null,
   "id": "f7fa7869-e20a-4bf9-88ff-cc346f5cc1b5",
   "metadata": {
    "id": "f7fa7869-e20a-4bf9-88ff-cc346f5cc1b5",
    "outputId": "a2c993e5-3a33-4d6b-9bfc-6c76777d837a"
   },
   "outputs": [
    {
     "data": {
      "text/plain": [
       "2"
      ]
     },
     "execution_count": 92,
     "metadata": {},
     "output_type": "execute_result"
    }
   ],
   "source": [
    "arr1.ndim"
   ]
  },
  {
   "cell_type": "code",
   "execution_count": null,
   "id": "b15b8f85-fd91-4b0c-869c-26ad485b050c",
   "metadata": {
    "id": "b15b8f85-fd91-4b0c-869c-26ad485b050c",
    "outputId": "632196a4-7f80-4f00-d2a3-461c4dbe4275"
   },
   "outputs": [
    {
     "data": {
      "text/plain": [
       "30"
      ]
     },
     "execution_count": 93,
     "metadata": {},
     "output_type": "execute_result"
    }
   ],
   "source": [
    "arr1.size"
   ]
  },
  {
   "cell_type": "code",
   "execution_count": null,
   "id": "8d08645c-ca27-4bc4-b253-9226e889d108",
   "metadata": {
    "id": "8d08645c-ca27-4bc4-b253-9226e889d108",
    "outputId": "53cb14b8-bd62-4f9a-f2f1-bf1daa3419f6"
   },
   "outputs": [
    {
     "data": {
      "text/plain": [
       "array([[False,  True,  True, False, False,  True],\n",
       "       [ True,  True,  True,  True, False,  True],\n",
       "       [False, False,  True,  True, False,  True],\n",
       "       [ True,  True,  True, False,  True,  True],\n",
       "       [ True,  True,  True,  True,  True,  True]])"
      ]
     },
     "execution_count": 94,
     "metadata": {},
     "output_type": "execute_result"
    }
   ],
   "source": [
    "arr1 > 3"
   ]
  },
  {
   "cell_type": "code",
   "execution_count": null,
   "id": "efcd6b59-c546-4820-97c5-1044bd9f7206",
   "metadata": {
    "id": "efcd6b59-c546-4820-97c5-1044bd9f7206",
    "outputId": "3ec04539-1a94-4a1f-ffaf-35e2aa72e56e"
   },
   "outputs": [
    {
     "data": {
      "text/plain": [
       "array([8, 8, 7, 4, 4, 5, 5, 5, 9, 9, 4, 8, 5, 4, 4, 9, 7, 8, 4, 9, 6, 9])"
      ]
     },
     "execution_count": 95,
     "metadata": {},
     "output_type": "execute_result"
    }
   ],
   "source": [
    "arr1[arr1> 3]"
   ]
  },
  {
   "cell_type": "code",
   "execution_count": null,
   "id": "10e6ed71-fa74-415b-8e0f-2f58d0dde030",
   "metadata": {
    "id": "10e6ed71-fa74-415b-8e0f-2f58d0dde030",
    "outputId": "b43ef12a-6b60-41c6-cc37-c2334ae47d49"
   },
   "outputs": [
    {
     "data": {
      "text/plain": [
       "array([1, 1, 2, 2, 2, 2, 1])"
      ]
     },
     "execution_count": 96,
     "metadata": {},
     "output_type": "execute_result"
    }
   ],
   "source": [
    "arr1[arr1 < 3]"
   ]
  },
  {
   "cell_type": "code",
   "execution_count": null,
   "id": "81526047-f112-4da5-bd5d-d37e45dddd3e",
   "metadata": {
    "id": "81526047-f112-4da5-bd5d-d37e45dddd3e",
    "outputId": "d2d2481f-6999-4433-a010-2e1fd9be391d"
   },
   "outputs": [
    {
     "data": {
      "text/plain": [
       "array([[3, 8, 8, 1, 1, 7],\n",
       "       [4, 4, 5, 5, 2, 5],\n",
       "       [2, 2, 9, 9, 2, 4],\n",
       "       [8, 5, 4, 1, 4, 9],\n",
       "       [7, 8, 4, 9, 6, 9]])"
      ]
     },
     "execution_count": 97,
     "metadata": {},
     "output_type": "execute_result"
    }
   ],
   "source": [
    "arr1"
   ]
  },
  {
   "cell_type": "code",
   "execution_count": null,
   "id": "0a15512e-1821-411d-b0a4-09d7b65c1b81",
   "metadata": {
    "id": "0a15512e-1821-411d-b0a4-09d7b65c1b81",
    "outputId": "fd204d66-4f02-44fb-8f2b-7424f5a6a710"
   },
   "outputs": [
    {
     "data": {
      "text/plain": [
       "array([3, 8, 8, 1, 1, 7])"
      ]
     },
     "execution_count": 98,
     "metadata": {},
     "output_type": "execute_result"
    }
   ],
   "source": [
    "#To access elements in the array\n",
    "arr1[0]"
   ]
  },
  {
   "cell_type": "code",
   "execution_count": null,
   "id": "ba5ebf99-740f-4cdc-9944-2f44bca03b85",
   "metadata": {
    "id": "ba5ebf99-740f-4cdc-9944-2f44bca03b85",
    "outputId": "bf95c304-2ce3-4b63-eb7e-2e767204f761"
   },
   "outputs": [
    {
     "data": {
      "text/plain": [
       "array([4, 4, 5, 5, 2, 5])"
      ]
     },
     "execution_count": 99,
     "metadata": {},
     "output_type": "execute_result"
    }
   ],
   "source": [
    "arr1[1]"
   ]
  },
  {
   "cell_type": "code",
   "execution_count": null,
   "id": "5c365aab-3269-47b4-9325-fadc23f1be88",
   "metadata": {
    "id": "5c365aab-3269-47b4-9325-fadc23f1be88",
    "outputId": "d11ca214-7e35-4bd9-c9f8-610881813a33"
   },
   "outputs": [
    {
     "data": {
      "text/plain": [
       "4"
      ]
     },
     "execution_count": 100,
     "metadata": {},
     "output_type": "execute_result"
    }
   ],
   "source": [
    "arr1[1][0]"
   ]
  },
  {
   "cell_type": "code",
   "execution_count": null,
   "id": "c8fa4d94-82e1-4dd3-b608-9820f4458741",
   "metadata": {
    "id": "c8fa4d94-82e1-4dd3-b608-9820f4458741",
    "outputId": "f2191688-47cb-4041-aef3-fe700631b7af"
   },
   "outputs": [
    {
     "data": {
      "text/plain": [
       "array([[3, 8, 8, 1, 1, 7],\n",
       "       [4, 4, 5, 5, 2, 5],\n",
       "       [2, 2, 9, 9, 2, 4],\n",
       "       [8, 5, 4, 1, 4, 9],\n",
       "       [7, 8, 4, 9, 6, 9]])"
      ]
     },
     "execution_count": 101,
     "metadata": {},
     "output_type": "execute_result"
    }
   ],
   "source": [
    "arr1"
   ]
  },
  {
   "cell_type": "code",
   "execution_count": null,
   "id": "9241cce9-e253-463c-a854-6e453899690d",
   "metadata": {
    "id": "9241cce9-e253-463c-a854-6e453899690d",
    "outputId": "b1bd7b21-143d-4baf-a199-2fc84825f65c"
   },
   "outputs": [
    {
     "data": {
      "text/plain": [
       "array([[3, 8, 8, 1, 1, 7],\n",
       "       [4, 4, 5, 5, 2, 5],\n",
       "       [2, 2, 9, 9, 2, 4]])"
      ]
     },
     "execution_count": 103,
     "metadata": {},
     "output_type": "execute_result"
    }
   ],
   "source": [
    "arr1[0:3] #oth row, 1st row and 2nd row"
   ]
  },
  {
   "cell_type": "code",
   "execution_count": null,
   "id": "6af909f7-b8af-4e53-9eb8-f0f103bd704d",
   "metadata": {
    "id": "6af909f7-b8af-4e53-9eb8-f0f103bd704d",
    "outputId": "0ed6314d-2133-4ad3-bbdb-de815f56e7d5"
   },
   "outputs": [
    {
     "data": {
      "text/plain": [
       "array([[3, 8],\n",
       "       [4, 5],\n",
       "       [2, 9]])"
      ]
     },
     "execution_count": 106,
     "metadata": {},
     "output_type": "execute_result"
    }
   ],
   "source": [
    "arr1[0:3, [0, 2]] #0to2nd row and 0th and 2nd column"
   ]
  },
  {
   "cell_type": "code",
   "execution_count": null,
   "id": "f969711b-4dfd-43de-8cd9-0c19e030c287",
   "metadata": {
    "id": "f969711b-4dfd-43de-8cd9-0c19e030c287"
   },
   "outputs": [],
   "source": [
    "#slicing on both rows and column"
   ]
  },
  {
   "cell_type": "code",
   "execution_count": null,
   "id": "34f2d375-19a8-4a1e-8203-ee3e86e0d30f",
   "metadata": {
    "id": "34f2d375-19a8-4a1e-8203-ee3e86e0d30f",
    "outputId": "4c59bd38-3633-46e0-c023-4a3606e12be4"
   },
   "outputs": [
    {
     "data": {
      "text/plain": [
       "array([[3, 8, 8, 1, 1, 7],\n",
       "       [4, 4, 5, 5, 2, 5],\n",
       "       [2, 2, 9, 9, 2, 4],\n",
       "       [8, 5, 4, 1, 4, 9],\n",
       "       [7, 8, 4, 9, 6, 9]])"
      ]
     },
     "execution_count": 110,
     "metadata": {},
     "output_type": "execute_result"
    }
   ],
   "source": [
    "arr1"
   ]
  },
  {
   "cell_type": "code",
   "execution_count": null,
   "id": "fdfabc4e-115b-4dad-bb3c-bca44bed3ac5",
   "metadata": {
    "id": "fdfabc4e-115b-4dad-bb3c-bca44bed3ac5",
    "outputId": "586c9faf-fcc2-48f2-8ac3-8d9be3c28394"
   },
   "outputs": [
    {
     "data": {
      "text/plain": [
       "array([[8, 8],\n",
       "       [4, 5],\n",
       "       [2, 9]])"
      ]
     },
     "execution_count": 109,
     "metadata": {},
     "output_type": "execute_result"
    }
   ],
   "source": [
    "arr1[0:3, 1:3]"
   ]
  },
  {
   "cell_type": "code",
   "execution_count": null,
   "id": "6a972795-309a-40ed-b689-ec9ef816fbb8",
   "metadata": {
    "id": "6a972795-309a-40ed-b689-ec9ef816fbb8",
    "outputId": "6c31ffa7-0b5a-411a-a7e5-6568cd129bbf"
   },
   "outputs": [
    {
     "data": {
      "text/plain": [
       "array([[3, 8],\n",
       "       [4, 4]])"
      ]
     },
     "execution_count": 111,
     "metadata": {},
     "output_type": "execute_result"
    }
   ],
   "source": [
    "arr1[0:2, [0,1]]"
   ]
  },
  {
   "cell_type": "code",
   "execution_count": null,
   "id": "58b61dc3-c41c-4c4d-b787-f86f77ba850b",
   "metadata": {
    "id": "58b61dc3-c41c-4c4d-b787-f86f77ba850b",
    "outputId": "0bdd5f05-fb67-4ca0-c021-2e6fb2e717b2"
   },
   "outputs": [
    {
     "data": {
      "text/plain": [
       "array([8, 1])"
      ]
     },
     "execution_count": 112,
     "metadata": {},
     "output_type": "execute_result"
    }
   ],
   "source": [
    "arr1[0, [1, 3]]"
   ]
  },
  {
   "cell_type": "code",
   "execution_count": null,
   "id": "5f76f258-b007-402e-8097-1187ae94ef5b",
   "metadata": {
    "id": "5f76f258-b007-402e-8097-1187ae94ef5b",
    "outputId": "a87bcb02-3a09-499b-e197-53ec8b76769a"
   },
   "outputs": [
    {
     "data": {
      "text/plain": [
       "array([[2, 9],\n",
       "       [8, 1]])"
      ]
     },
     "execution_count": 113,
     "metadata": {},
     "output_type": "execute_result"
    }
   ],
   "source": [
    "arr1[2:4, [0, 3]]"
   ]
  },
  {
   "cell_type": "code",
   "execution_count": null,
   "id": "85965a0e-d68a-4cee-b98d-1beeab1f5d34",
   "metadata": {
    "id": "85965a0e-d68a-4cee-b98d-1beeab1f5d34",
    "outputId": "63b3debd-f146-411b-f34e-7b5e1376e01d"
   },
   "outputs": [
    {
     "data": {
      "text/plain": [
       "array([[2, 2, 9, 9, 2, 4],\n",
       "       [8, 5, 4, 1, 4, 9],\n",
       "       [7, 8, 4, 9, 6, 9]])"
      ]
     },
     "execution_count": 114,
     "metadata": {},
     "output_type": "execute_result"
    }
   ],
   "source": [
    "arr1[2:5]"
   ]
  },
  {
   "cell_type": "code",
   "execution_count": null,
   "id": "37a7a444-2ad4-4e08-a332-0e75b472e674",
   "metadata": {
    "id": "37a7a444-2ad4-4e08-a332-0e75b472e674",
    "outputId": "55a15f42-5cab-4be8-cb40-6090e2016dc0"
   },
   "outputs": [
    {
     "data": {
      "text/plain": [
       "array([[2, 2],\n",
       "       [8, 5],\n",
       "       [7, 8]])"
      ]
     },
     "execution_count": 115,
     "metadata": {},
     "output_type": "execute_result"
    }
   ],
   "source": [
    "arr1[2:5, 0:2]"
   ]
  },
  {
   "cell_type": "code",
   "execution_count": null,
   "id": "1405f25a-76ed-4928-8e97-796a1d166414",
   "metadata": {
    "id": "1405f25a-76ed-4928-8e97-796a1d166414"
   },
   "outputs": [],
   "source": [
    "#mathematical operation on two arrays\n",
    "arr1 = np.random.randint(1, 3, (3, 3))\n",
    "arr2 = np.random.randint(1, 3, (3, 3))"
   ]
  },
  {
   "cell_type": "code",
   "execution_count": null,
   "id": "9e9006c4-f357-4729-82ca-2c4455ed13f5",
   "metadata": {
    "id": "9e9006c4-f357-4729-82ca-2c4455ed13f5",
    "outputId": "bb717e12-9d0d-4758-bcbb-b964b7d97c45"
   },
   "outputs": [
    {
     "data": {
      "text/plain": [
       "array([[1, 2, 1],\n",
       "       [2, 1, 1],\n",
       "       [2, 1, 1]])"
      ]
     },
     "execution_count": 117,
     "metadata": {},
     "output_type": "execute_result"
    }
   ],
   "source": [
    "arr1"
   ]
  },
  {
   "cell_type": "code",
   "execution_count": null,
   "id": "b353c901-c1b1-4801-8704-c0bf5f85bf90",
   "metadata": {
    "id": "b353c901-c1b1-4801-8704-c0bf5f85bf90",
    "outputId": "51ee5da5-3329-4dff-8c73-2cbdde2aedef"
   },
   "outputs": [
    {
     "data": {
      "text/plain": [
       "array([[2, 1, 1],\n",
       "       [1, 2, 1],\n",
       "       [1, 1, 2]])"
      ]
     },
     "execution_count": 118,
     "metadata": {},
     "output_type": "execute_result"
    }
   ],
   "source": [
    "arr2"
   ]
  },
  {
   "cell_type": "code",
   "execution_count": null,
   "id": "8cfda7c6-28d9-4a4d-b659-4b7f123d57b5",
   "metadata": {
    "id": "8cfda7c6-28d9-4a4d-b659-4b7f123d57b5",
    "outputId": "cadb4d9d-074e-44af-cb59-ee8c80711ea7"
   },
   "outputs": [
    {
     "data": {
      "text/plain": [
       "array([[3, 3, 2],\n",
       "       [3, 3, 2],\n",
       "       [3, 2, 3]])"
      ]
     },
     "execution_count": 119,
     "metadata": {},
     "output_type": "execute_result"
    }
   ],
   "source": [
    "arr1+arr2 #indewise elment addition"
   ]
  },
  {
   "cell_type": "code",
   "execution_count": null,
   "id": "b18690e1-ed3a-4815-b749-9615133dd748",
   "metadata": {
    "id": "b18690e1-ed3a-4815-b749-9615133dd748",
    "outputId": "45081796-9e55-4f5f-a38b-927ecd058425"
   },
   "outputs": [
    {
     "data": {
      "text/plain": [
       "array([[-1,  1,  0],\n",
       "       [ 1, -1,  0],\n",
       "       [ 1,  0, -1]])"
      ]
     },
     "execution_count": 120,
     "metadata": {},
     "output_type": "execute_result"
    }
   ],
   "source": [
    "arr1-arr2 #indexwise element substraction"
   ]
  },
  {
   "cell_type": "code",
   "execution_count": null,
   "id": "a1b4dbcb-61ff-4671-b2bc-37aa1d3bd424",
   "metadata": {
    "id": "a1b4dbcb-61ff-4671-b2bc-37aa1d3bd424",
    "outputId": "f19f6939-5de5-4181-c0a9-a507d37256ab"
   },
   "outputs": [
    {
     "data": {
      "text/plain": [
       "array([[2, 2, 1],\n",
       "       [2, 2, 1],\n",
       "       [2, 1, 2]])"
      ]
     },
     "execution_count": 121,
     "metadata": {},
     "output_type": "execute_result"
    }
   ],
   "source": [
    "arr1 * arr2 #index wise multiplication"
   ]
  },
  {
   "cell_type": "code",
   "execution_count": null,
   "id": "b6d264c2-0e17-45d1-9438-e356150f05b5",
   "metadata": {
    "id": "b6d264c2-0e17-45d1-9438-e356150f05b5",
    "outputId": "3f6d6c8d-9b97-4462-8f35-27aaeced7908"
   },
   "outputs": [
    {
     "data": {
      "text/plain": [
       "(array([[1, 2, 1],\n",
       "        [2, 1, 1],\n",
       "        [2, 1, 1]]),\n",
       " array([[2, 1, 1],\n",
       "        [1, 2, 1],\n",
       "        [1, 1, 2]]))"
      ]
     },
     "execution_count": 122,
     "metadata": {},
     "output_type": "execute_result"
    }
   ],
   "source": [
    "arr1, arr2"
   ]
  },
  {
   "cell_type": "code",
   "execution_count": null,
   "id": "0bc72838-7102-45af-a67b-62fd75c1eebb",
   "metadata": {
    "id": "0bc72838-7102-45af-a67b-62fd75c1eebb",
    "outputId": "1cc53bdd-b621-4f48-9886-5874323e35bb"
   },
   "outputs": [
    {
     "data": {
      "text/plain": [
       "array([[0.5, 2. , 1. ],\n",
       "       [2. , 0.5, 1. ],\n",
       "       [2. , 1. , 0.5]])"
      ]
     },
     "execution_count": 123,
     "metadata": {},
     "output_type": "execute_result"
    }
   ],
   "source": [
    "arr1 / arr2 #index wise divison"
   ]
  },
  {
   "cell_type": "code",
   "execution_count": null,
   "id": "74a704b9-1131-484c-8286-168a574d642b",
   "metadata": {
    "id": "74a704b9-1131-484c-8286-168a574d642b",
    "outputId": "9bd32a41-44c4-468c-a6b8-a63f55d8a027"
   },
   "outputs": [
    {
     "ename": "ZeroDivisionError",
     "evalue": "division by zero",
     "output_type": "error",
     "traceback": [
      "\u001b[0;31m---------------------------------------------------------------------------\u001b[0m",
      "\u001b[0;31mZeroDivisionError\u001b[0m                         Traceback (most recent call last)",
      "Cell \u001b[0;32mIn[127], line 1\u001b[0m\n\u001b[0;32m----> 1\u001b[0m \u001b[38;5;241;43m4\u001b[39;49m\u001b[38;5;241;43m/\u001b[39;49m\u001b[38;5;241;43m0\u001b[39;49m\n",
      "\u001b[0;31mZeroDivisionError\u001b[0m: division by zero"
     ]
    }
   ],
   "source": [
    "4/0"
   ]
  },
  {
   "cell_type": "code",
   "execution_count": null,
   "id": "231fb1cb-b215-4194-bf48-f6704342b423",
   "metadata": {
    "id": "231fb1cb-b215-4194-bf48-f6704342b423",
    "outputId": "9b4317f4-680a-4a2d-dd17-3a7fb69af76c"
   },
   "outputs": [
    {
     "name": "stderr",
     "output_type": "stream",
     "text": [
      "/tmp/ipykernel_3900/824215542.py:1: RuntimeWarning: divide by zero encountered in divide\n",
      "  arr1 / 0\n"
     ]
    },
    {
     "data": {
      "text/plain": [
       "array([[inf, inf, inf],\n",
       "       [inf, inf, inf],\n",
       "       [inf, inf, inf]])"
      ]
     },
     "execution_count": 126,
     "metadata": {},
     "output_type": "execute_result"
    }
   ],
   "source": [
    "arr1 / 0 #in python zero divion error will come, but in numpy no error"
   ]
  },
  {
   "cell_type": "code",
   "execution_count": null,
   "id": "3807f97e-31e1-4f1b-9585-f1138009eab9",
   "metadata": {
    "id": "3807f97e-31e1-4f1b-9585-f1138009eab9",
    "outputId": "64b7e3ff-36c8-48bb-da83-023fe786b858"
   },
   "outputs": [
    {
     "data": {
      "text/plain": [
       "array([[5, 6, 5],\n",
       "       [6, 5, 5],\n",
       "       [6, 5, 5]])"
      ]
     },
     "execution_count": 124,
     "metadata": {},
     "output_type": "execute_result"
    }
   ],
   "source": [
    "#matric multiplication>> different from index wise multiplication\n",
    "\n",
    "arr1 @ arr2 #1st way to do matrix multiplication"
   ]
  },
  {
   "cell_type": "code",
   "execution_count": null,
   "id": "734594e6-ce1c-49d1-8af9-1af4eb53966b",
   "metadata": {
    "id": "734594e6-ce1c-49d1-8af9-1af4eb53966b",
    "outputId": "4f67df89-1d67-49bb-84cf-a3d7750657dc"
   },
   "outputs": [
    {
     "data": {
      "text/plain": [
       "array([[5, 6, 5],\n",
       "       [6, 5, 5],\n",
       "       [6, 5, 5]])"
      ]
     },
     "execution_count": 125,
     "metadata": {},
     "output_type": "execute_result"
    }
   ],
   "source": [
    "np.dot(arr1, arr2) #ndst way to do matrix multiplication"
   ]
  },
  {
   "cell_type": "code",
   "execution_count": null,
   "id": "843f16ca-5787-4d9a-88d7-a05c1f66cbe0",
   "metadata": {
    "id": "843f16ca-5787-4d9a-88d7-a05c1f66cbe0"
   },
   "outputs": [],
   "source": [
    "arr = np.zeros((3, 4))"
   ]
  },
  {
   "cell_type": "code",
   "execution_count": null,
   "id": "af9cbee3-d0f3-4c49-a7ce-8ceee38824c9",
   "metadata": {
    "id": "af9cbee3-d0f3-4c49-a7ce-8ceee38824c9",
    "outputId": "7045ba1b-9248-4b86-dabe-d2e2dd0a767e"
   },
   "outputs": [
    {
     "data": {
      "text/plain": [
       "array([[0., 0., 0., 0.],\n",
       "       [0., 0., 0., 0.],\n",
       "       [0., 0., 0., 0.]])"
      ]
     },
     "execution_count": 129,
     "metadata": {},
     "output_type": "execute_result"
    }
   ],
   "source": [
    "#broadcasting\n",
    "arr"
   ]
  },
  {
   "cell_type": "code",
   "execution_count": null,
   "id": "8af944f2-052a-44ae-8c40-b340c1cab537",
   "metadata": {
    "id": "8af944f2-052a-44ae-8c40-b340c1cab537",
    "outputId": "6675a839-2209-4795-b2a9-db6362306110"
   },
   "outputs": [
    {
     "data": {
      "text/plain": [
       "array([[5., 5., 5., 5.],\n",
       "       [5., 5., 5., 5.],\n",
       "       [5., 5., 5., 5.]])"
      ]
     },
     "execution_count": 130,
     "metadata": {},
     "output_type": "execute_result"
    }
   ],
   "source": [
    "arr + 5"
   ]
  },
  {
   "cell_type": "code",
   "execution_count": null,
   "id": "742760ee-f342-458a-82c5-720c6773a16c",
   "metadata": {
    "id": "742760ee-f342-458a-82c5-720c6773a16c",
    "outputId": "6c8cfec5-ec61-44a5-ba75-a452aea6a985"
   },
   "outputs": [
    {
     "data": {
      "text/plain": [
       "array([[-5., -5., -5., -5.],\n",
       "       [-5., -5., -5., -5.],\n",
       "       [-5., -5., -5., -5.]])"
      ]
     },
     "execution_count": 131,
     "metadata": {},
     "output_type": "execute_result"
    }
   ],
   "source": [
    "arr-5"
   ]
  },
  {
   "cell_type": "code",
   "execution_count": null,
   "id": "40c0125a-78da-46d1-b186-3c97dd9c052f",
   "metadata": {
    "id": "40c0125a-78da-46d1-b186-3c97dd9c052f",
    "outputId": "31a0f1ac-4748-4b15-fb54-ab7c656d3ca1"
   },
   "outputs": [
    {
     "data": {
      "text/plain": [
       "array([[0., 0., 0., 0.],\n",
       "       [0., 0., 0., 0.],\n",
       "       [0., 0., 0., 0.]])"
      ]
     },
     "execution_count": 132,
     "metadata": {},
     "output_type": "execute_result"
    }
   ],
   "source": [
    "arr"
   ]
  },
  {
   "cell_type": "code",
   "execution_count": null,
   "id": "08ac0f57-1e64-4f55-8453-144c1f520f4d",
   "metadata": {
    "id": "08ac0f57-1e64-4f55-8453-144c1f520f4d"
   },
   "outputs": [],
   "source": [
    "a = np.array([1, 2, 3, 4])"
   ]
  },
  {
   "cell_type": "code",
   "execution_count": null,
   "id": "50a9fa94-f50b-4bf2-80a0-24914b647870",
   "metadata": {
    "id": "50a9fa94-f50b-4bf2-80a0-24914b647870",
    "outputId": "e6150ba9-6faa-4014-f775-e7881e4d5dc4"
   },
   "outputs": [
    {
     "data": {
      "text/plain": [
       "array([1, 2, 3, 4])"
      ]
     },
     "execution_count": 134,
     "metadata": {},
     "output_type": "execute_result"
    }
   ],
   "source": [
    "a"
   ]
  },
  {
   "cell_type": "code",
   "execution_count": null,
   "id": "59061482-b627-42f8-a1df-829cfb9c357a",
   "metadata": {
    "id": "59061482-b627-42f8-a1df-829cfb9c357a",
    "outputId": "6f3cb16f-0e8b-43ae-ed02-ba3c61a2f706"
   },
   "outputs": [
    {
     "data": {
      "text/plain": [
       "1"
      ]
     },
     "execution_count": 135,
     "metadata": {},
     "output_type": "execute_result"
    }
   ],
   "source": [
    "a.ndim"
   ]
  },
  {
   "cell_type": "code",
   "execution_count": null,
   "id": "c0bea919-987a-4e2c-9553-49ed241d117b",
   "metadata": {
    "id": "c0bea919-987a-4e2c-9553-49ed241d117b",
    "outputId": "f6d7c2bc-bc86-4d25-a456-fcb6affdfb97"
   },
   "outputs": [
    {
     "data": {
      "text/plain": [
       "array([[1., 2., 3., 4.],\n",
       "       [1., 2., 3., 4.],\n",
       "       [1., 2., 3., 4.]])"
      ]
     },
     "execution_count": 136,
     "metadata": {},
     "output_type": "execute_result"
    }
   ],
   "source": [
    "arr + a"
   ]
  },
  {
   "cell_type": "code",
   "execution_count": null,
   "id": "faf9f46d-768e-405a-abd0-655a6596cfe5",
   "metadata": {
    "id": "faf9f46d-768e-405a-abd0-655a6596cfe5"
   },
   "outputs": [],
   "source": [
    "a = np.array([[1, 2, 3, 4]])"
   ]
  },
  {
   "cell_type": "code",
   "execution_count": null,
   "id": "2a32d027-c7b1-4d65-a8df-e5c2a63228d7",
   "metadata": {
    "id": "2a32d027-c7b1-4d65-a8df-e5c2a63228d7",
    "outputId": "4e06a3fc-53a3-493b-d7f3-4b43b5c9d6f8"
   },
   "outputs": [
    {
     "data": {
      "text/plain": [
       "array([[1, 2, 3, 4]])"
      ]
     },
     "execution_count": 142,
     "metadata": {},
     "output_type": "execute_result"
    }
   ],
   "source": [
    "a"
   ]
  },
  {
   "cell_type": "code",
   "execution_count": null,
   "id": "858465ee-6c60-4a13-a0d8-2eb7afad92ac",
   "metadata": {
    "id": "858465ee-6c60-4a13-a0d8-2eb7afad92ac",
    "outputId": "4c96ebdb-40c0-4e92-bd93-6068560f403b"
   },
   "outputs": [
    {
     "data": {
      "text/plain": [
       "array([[1],\n",
       "       [2],\n",
       "       [3],\n",
       "       [4]])"
      ]
     },
     "execution_count": 143,
     "metadata": {},
     "output_type": "execute_result"
    }
   ],
   "source": [
    "#Transpose\n",
    "a.T"
   ]
  },
  {
   "cell_type": "code",
   "execution_count": null,
   "id": "8a3eb982-449f-48ce-a6b2-d0b25aa86267",
   "metadata": {
    "id": "8a3eb982-449f-48ce-a6b2-d0b25aa86267",
    "outputId": "ff35baad-ed51-4d09-c610-1db202627cf4"
   },
   "outputs": [
    {
     "data": {
      "text/plain": [
       "array([[1, 2, 1],\n",
       "       [2, 1, 1],\n",
       "       [2, 1, 1]])"
      ]
     },
     "execution_count": 145,
     "metadata": {},
     "output_type": "execute_result"
    }
   ],
   "source": [
    "arr1"
   ]
  },
  {
   "cell_type": "code",
   "execution_count": null,
   "id": "03fd50e8-9239-4e58-9463-d9f8deab7e66",
   "metadata": {
    "id": "03fd50e8-9239-4e58-9463-d9f8deab7e66",
    "outputId": "a3e0ff36-7035-4d05-f1c2-9df6492d0591"
   },
   "outputs": [
    {
     "data": {
      "text/plain": [
       "array([[1, 2, 2],\n",
       "       [2, 1, 1],\n",
       "       [1, 1, 1]])"
      ]
     },
     "execution_count": 146,
     "metadata": {},
     "output_type": "execute_result"
    }
   ],
   "source": [
    "arr1.T"
   ]
  },
  {
   "cell_type": "code",
   "execution_count": null,
   "id": "222d0d56-c9ee-4d2f-9f6b-8ccb08bd8240",
   "metadata": {
    "id": "222d0d56-c9ee-4d2f-9f6b-8ccb08bd8240"
   },
   "outputs": [],
   "source": []
  }
 ],
 "metadata": {
  "colab": {
   "provenance": []
  },
  "kernelspec": {
   "display_name": ".venv",
   "language": "python",
   "name": "python3"
  },
  "language_info": {
   "codemirror_mode": {
    "name": "ipython",
    "version": 3
   },
   "file_extension": ".py",
   "mimetype": "text/x-python",
   "name": "python",
   "nbconvert_exporter": "python",
   "pygments_lexer": "ipython3",
   "version": "3.12.2"
  }
 },
 "nbformat": 4,
 "nbformat_minor": 5
}

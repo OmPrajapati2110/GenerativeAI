{
 "cells": [
  {
   "cell_type": "code",
   "execution_count": null,
   "id": "8dfedac3-5f51-4275-819c-507f2d27b30e",
   "metadata": {
    "id": "8dfedac3-5f51-4275-819c-507f2d27b30e"
   },
   "outputs": [],
   "source": [
    "import numpy as np"
   ]
  },
  {
   "cell_type": "code",
   "execution_count": null,
   "id": "23d4c995-e74f-4978-97f9-cc36b2fa39c3",
   "metadata": {
    "id": "23d4c995-e74f-4978-97f9-cc36b2fa39c3"
   },
   "outputs": [],
   "source": [
    "arr1 = np.random.randint(1, 3, (3,3))\n",
    "arr2 = np.random.randint(1, 3, (3,3))"
   ]
  },
  {
   "cell_type": "code",
   "execution_count": null,
   "id": "981bf6cc-e58e-464b-a669-5d572ab0d2d9",
   "metadata": {
    "id": "981bf6cc-e58e-464b-a669-5d572ab0d2d9",
    "outputId": "306eeb2b-1ebe-4a96-e5ce-99db38c8fe0b"
   },
   "outputs": [
    {
     "data": {
      "text/plain": [
       "array([[2, 1, 2],\n",
       "       [1, 2, 2],\n",
       "       [1, 1, 2]])"
      ]
     },
     "execution_count": 3,
     "metadata": {},
     "output_type": "execute_result"
    }
   ],
   "source": [
    "arr1"
   ]
  },
  {
   "cell_type": "code",
   "execution_count": null,
   "id": "118da4f4-0ece-4809-af02-3fe576c9a956",
   "metadata": {
    "id": "118da4f4-0ece-4809-af02-3fe576c9a956",
    "outputId": "e00f6904-b550-40e5-a2a2-fa2d9ecfe494"
   },
   "outputs": [
    {
     "data": {
      "text/plain": [
       "array([2, 1, 2, 1, 2, 2, 1, 1, 2])"
      ]
     },
     "execution_count": 4,
     "metadata": {},
     "output_type": "execute_result"
    }
   ],
   "source": [
    "arr1.flatten() #Return a copy of the array collapsed into one dimension."
   ]
  },
  {
   "cell_type": "code",
   "execution_count": null,
   "id": "c42c72e2-8c22-4fdc-bfb8-a7b9cf842cf3",
   "metadata": {
    "id": "c42c72e2-8c22-4fdc-bfb8-a7b9cf842cf3",
    "outputId": "f727eb1c-ea49-4f9f-f6e6-1880cd273f05"
   },
   "outputs": [
    {
     "data": {
      "text/plain": [
       "array([1, 2, 3, 4])"
      ]
     },
     "execution_count": 5,
     "metadata": {},
     "output_type": "execute_result"
    }
   ],
   "source": [
    "#expand dimesnion\n",
    "arr = np.array([1, 2, 3, 4])\n",
    "arr"
   ]
  },
  {
   "cell_type": "code",
   "execution_count": null,
   "id": "1ecd7b62-0e97-451b-8912-1cc66a2ecd8c",
   "metadata": {
    "id": "1ecd7b62-0e97-451b-8912-1cc66a2ecd8c",
    "outputId": "c00ca6af-256a-440b-8059-8b118042d237"
   },
   "outputs": [
    {
     "data": {
      "text/plain": [
       "1"
      ]
     },
     "execution_count": 6,
     "metadata": {},
     "output_type": "execute_result"
    }
   ],
   "source": [
    "arr.ndim"
   ]
  },
  {
   "cell_type": "code",
   "execution_count": null,
   "id": "4175939a-e272-46de-8008-86df88360641",
   "metadata": {
    "id": "4175939a-e272-46de-8008-86df88360641",
    "outputId": "c6ccc5be-0b03-4f76-f3e2-14d39a67996e"
   },
   "outputs": [
    {
     "data": {
      "text/plain": [
       "array([[1, 2, 3, 4]])"
      ]
     },
     "execution_count": 13,
     "metadata": {},
     "output_type": "execute_result"
    }
   ],
   "source": [
    "np.expand_dims(arr, axis = 0) #increases the dimension by 1 at provoided axis"
   ]
  },
  {
   "cell_type": "code",
   "execution_count": null,
   "id": "2f541fcb-205a-43c6-8aca-89421d13a504",
   "metadata": {
    "id": "2f541fcb-205a-43c6-8aca-89421d13a504",
    "outputId": "152af495-0a2b-4da1-be0b-000bce1d9823"
   },
   "outputs": [
    {
     "data": {
      "text/plain": [
       "array([[1],\n",
       "       [2],\n",
       "       [3],\n",
       "       [4]])"
      ]
     },
     "execution_count": 10,
     "metadata": {},
     "output_type": "execute_result"
    }
   ],
   "source": [
    "np.expand_dims(arr, axis = 1)"
   ]
  },
  {
   "cell_type": "code",
   "execution_count": null,
   "id": "fe2b741e-0fc6-4001-b287-d856fcfa0f41",
   "metadata": {
    "id": "fe2b741e-0fc6-4001-b287-d856fcfa0f41",
    "outputId": "373b06c8-e0d9-43cc-9efd-a5001da8d6ed"
   },
   "outputs": [
    {
     "data": {
      "text/plain": [
       "2"
      ]
     },
     "execution_count": 12,
     "metadata": {},
     "output_type": "execute_result"
    }
   ],
   "source": [
    "np.expand_dims(arr, axis = 1).ndim"
   ]
  },
  {
   "cell_type": "code",
   "execution_count": null,
   "id": "e43db0ab-3cc7-4758-bcd5-d7cd135f3aaf",
   "metadata": {
    "id": "e43db0ab-3cc7-4758-bcd5-d7cd135f3aaf",
    "outputId": "3adf1002-ed60-4a2e-d9f3-e63f693c11b2"
   },
   "outputs": [
    {
     "data": {
      "text/plain": [
       "array([1, 2, 3, 4])"
      ]
     },
     "execution_count": 11,
     "metadata": {},
     "output_type": "execute_result"
    }
   ],
   "source": [
    "arr"
   ]
  },
  {
   "cell_type": "code",
   "execution_count": null,
   "id": "af84a63b-59e3-475b-abb6-c55ebd810b26",
   "metadata": {
    "id": "af84a63b-59e3-475b-abb6-c55ebd810b26"
   },
   "outputs": [],
   "source": [
    "arr = np.zeros((3, 4))"
   ]
  },
  {
   "cell_type": "code",
   "execution_count": null,
   "id": "d936633c-f689-444c-b9fb-0a172fd83b67",
   "metadata": {
    "id": "d936633c-f689-444c-b9fb-0a172fd83b67",
    "outputId": "85bf0f9d-90a3-41ae-e930-521cf157f41c"
   },
   "outputs": [
    {
     "data": {
      "text/plain": [
       "2"
      ]
     },
     "execution_count": 15,
     "metadata": {},
     "output_type": "execute_result"
    }
   ],
   "source": [
    "arr.ndim"
   ]
  },
  {
   "cell_type": "code",
   "execution_count": null,
   "id": "b1257bf0-1b21-4d53-b7b4-331897d5ce05",
   "metadata": {
    "id": "b1257bf0-1b21-4d53-b7b4-331897d5ce05",
    "outputId": "2483add9-f98f-417f-f2cc-402c1fb920dd"
   },
   "outputs": [
    {
     "data": {
      "text/plain": [
       "array([[[0., 0., 0., 0.],\n",
       "        [0., 0., 0., 0.],\n",
       "        [0., 0., 0., 0.]]])"
      ]
     },
     "execution_count": 16,
     "metadata": {},
     "output_type": "execute_result"
    }
   ],
   "source": [
    "np.expand_dims(arr, axis=0)"
   ]
  },
  {
   "cell_type": "code",
   "execution_count": null,
   "id": "97ca0026-ba95-49b4-b628-6c612d392e55",
   "metadata": {
    "id": "97ca0026-ba95-49b4-b628-6c612d392e55",
    "outputId": "95436d9d-75bc-4ee2-bce1-0f2cdd216bac"
   },
   "outputs": [
    {
     "data": {
      "text/plain": [
       "array([[[0., 0., 0., 0.]],\n",
       "\n",
       "       [[0., 0., 0., 0.]],\n",
       "\n",
       "       [[0., 0., 0., 0.]]])"
      ]
     },
     "execution_count": 17,
     "metadata": {},
     "output_type": "execute_result"
    }
   ],
   "source": [
    "np.expand_dims(arr, axis=1)"
   ]
  },
  {
   "cell_type": "code",
   "execution_count": null,
   "id": "523a7cec-0074-4888-af1f-393fbe764e9b",
   "metadata": {
    "id": "523a7cec-0074-4888-af1f-393fbe764e9b",
    "outputId": "6b030773-8e05-4c1d-afea-25fed9dd68f8"
   },
   "outputs": [
    {
     "data": {
      "text/plain": [
       "3"
      ]
     },
     "execution_count": 18,
     "metadata": {},
     "output_type": "execute_result"
    }
   ],
   "source": [
    "np.expand_dims(arr, axis=0).ndim"
   ]
  },
  {
   "cell_type": "code",
   "execution_count": null,
   "id": "e785b491-4ce8-4b45-a1fa-889f642b2b88",
   "metadata": {
    "id": "e785b491-4ce8-4b45-a1fa-889f642b2b88"
   },
   "outputs": [],
   "source": [
    "a = np.array([[1], [2], [3]])"
   ]
  },
  {
   "cell_type": "code",
   "execution_count": null,
   "id": "6ff2af90-1042-4055-bc7c-835f07fcb73a",
   "metadata": {
    "id": "6ff2af90-1042-4055-bc7c-835f07fcb73a",
    "outputId": "76234abd-0380-4c4e-e934-cf4e35377508"
   },
   "outputs": [
    {
     "data": {
      "text/plain": [
       "array([[1],\n",
       "       [2],\n",
       "       [3]])"
      ]
     },
     "execution_count": 20,
     "metadata": {},
     "output_type": "execute_result"
    }
   ],
   "source": [
    "a"
   ]
  },
  {
   "cell_type": "code",
   "execution_count": null,
   "id": "69c54e9e-2d6f-4825-8a5d-ae136c653454",
   "metadata": {
    "id": "69c54e9e-2d6f-4825-8a5d-ae136c653454",
    "outputId": "39076c19-6923-469d-e5c2-42f12741b2f2"
   },
   "outputs": [
    {
     "data": {
      "text/plain": [
       "2"
      ]
     },
     "execution_count": 21,
     "metadata": {},
     "output_type": "execute_result"
    }
   ],
   "source": [
    "a.ndim"
   ]
  },
  {
   "cell_type": "code",
   "execution_count": null,
   "id": "b6773d5c-a999-420e-ab69-ea547b5cea0f",
   "metadata": {
    "id": "b6773d5c-a999-420e-ab69-ea547b5cea0f",
    "outputId": "a6e46e98-e858-45cb-c26e-1b9cecff4e3f"
   },
   "outputs": [
    {
     "data": {
      "text/plain": [
       "array([1, 2, 3])"
      ]
     },
     "execution_count": 22,
     "metadata": {},
     "output_type": "execute_result"
    }
   ],
   "source": [
    "np.squeeze(a) #Remove axes of length one from `a`"
   ]
  },
  {
   "cell_type": "code",
   "execution_count": null,
   "id": "3f7fe457-2c2f-468e-a0b1-ae06b103a3f0",
   "metadata": {
    "id": "3f7fe457-2c2f-468e-a0b1-ae06b103a3f0",
    "outputId": "99bae6c5-6e2c-41d7-bfd2-7c97ba800b85"
   },
   "outputs": [
    {
     "data": {
      "text/plain": [
       "array([[1],\n",
       "       [2],\n",
       "       [3]])"
      ]
     },
     "execution_count": 23,
     "metadata": {},
     "output_type": "execute_result"
    }
   ],
   "source": [
    "a"
   ]
  },
  {
   "cell_type": "code",
   "execution_count": null,
   "id": "3c15c46e-8cb3-48d8-9c3b-5e9548a96c61",
   "metadata": {
    "id": "3c15c46e-8cb3-48d8-9c3b-5e9548a96c61",
    "outputId": "6c57ce3f-d03c-4dd8-e3d0-08bf4fc10276"
   },
   "outputs": [
    {
     "data": {
      "text/plain": [
       "array([1, 1, 1, 1, 2, 2, 2, 2, 3, 3, 3, 3])"
      ]
     },
     "execution_count": 25,
     "metadata": {},
     "output_type": "execute_result"
    }
   ],
   "source": [
    "np.repeat(a, 4)"
   ]
  },
  {
   "cell_type": "code",
   "execution_count": null,
   "id": "51d7f2ce-804d-4e5f-afed-7427a54171fa",
   "metadata": {
    "id": "51d7f2ce-804d-4e5f-afed-7427a54171fa",
    "outputId": "8bb8f9a7-2f28-4e5e-d77d-4ca6d03a9512"
   },
   "outputs": [
    {
     "data": {
      "text/plain": [
       "array([[2, 1, 2],\n",
       "       [1, 2, 2],\n",
       "       [1, 1, 2]])"
      ]
     },
     "execution_count": 26,
     "metadata": {},
     "output_type": "execute_result"
    }
   ],
   "source": [
    "arr1"
   ]
  },
  {
   "cell_type": "code",
   "execution_count": null,
   "id": "f689b4f7-e292-40a7-b58d-49a56efcfd06",
   "metadata": {
    "id": "f689b4f7-e292-40a7-b58d-49a56efcfd06",
    "outputId": "5d60d085-cff8-4934-cb6b-476262237f8e"
   },
   "outputs": [
    {
     "data": {
      "text/plain": [
       "array([2, 2, 1, 1, 2, 2, 1, 1, 2, 2, 2, 2, 1, 1, 1, 1, 2, 2])"
      ]
     },
     "execution_count": 27,
     "metadata": {},
     "output_type": "execute_result"
    }
   ],
   "source": [
    "np.repeat(arr1, 2)"
   ]
  },
  {
   "cell_type": "code",
   "execution_count": null,
   "id": "6bb037ef-b656-4563-aae3-0edfc1e56fad",
   "metadata": {
    "id": "6bb037ef-b656-4563-aae3-0edfc1e56fad",
    "outputId": "223bdf13-2241-45af-81ab-7f59ccff286a"
   },
   "outputs": [
    {
     "data": {
      "text/plain": [
       "array([[2, 1, 2],\n",
       "       [2, 1, 2],\n",
       "       [1, 2, 2],\n",
       "       [1, 2, 2],\n",
       "       [1, 1, 2],\n",
       "       [1, 1, 2]])"
      ]
     },
     "execution_count": 28,
     "metadata": {},
     "output_type": "execute_result"
    }
   ],
   "source": [
    "np.repeat(arr1, 2, axis=0)"
   ]
  },
  {
   "cell_type": "code",
   "execution_count": null,
   "id": "8d5cd59d-19fe-4a4a-a024-4f670513cf68",
   "metadata": {
    "id": "8d5cd59d-19fe-4a4a-a024-4f670513cf68",
    "outputId": "37f80670-23e2-4817-9983-1bc269c89ecf"
   },
   "outputs": [
    {
     "data": {
      "text/plain": [
       "array([[2, 1, 2],\n",
       "       [2, 1, 2],\n",
       "       [2, 1, 2],\n",
       "       [1, 2, 2],\n",
       "       [1, 2, 2],\n",
       "       [1, 2, 2],\n",
       "       [1, 1, 2],\n",
       "       [1, 1, 2],\n",
       "       [1, 1, 2]])"
      ]
     },
     "execution_count": 29,
     "metadata": {},
     "output_type": "execute_result"
    }
   ],
   "source": [
    "np.repeat(arr1, 3, axis=0)"
   ]
  },
  {
   "cell_type": "code",
   "execution_count": null,
   "id": "b23a905e-b779-4132-b44d-4f41be26bc9b",
   "metadata": {
    "id": "b23a905e-b779-4132-b44d-4f41be26bc9b",
    "outputId": "49693aa8-3350-47ae-e39c-104d08a481b2"
   },
   "outputs": [
    {
     "data": {
      "text/plain": [
       "array([[2, 2, 2, 1, 1, 1, 2, 2, 2],\n",
       "       [1, 1, 1, 2, 2, 2, 2, 2, 2],\n",
       "       [1, 1, 1, 1, 1, 1, 2, 2, 2]])"
      ]
     },
     "execution_count": 30,
     "metadata": {},
     "output_type": "execute_result"
    }
   ],
   "source": [
    "np.repeat(arr1, 3, axis=1)"
   ]
  },
  {
   "cell_type": "code",
   "execution_count": null,
   "id": "7324d3a4-fcec-421b-81fb-85914b93be89",
   "metadata": {
    "id": "7324d3a4-fcec-421b-81fb-85914b93be89",
    "outputId": "05e0dcf2-8678-42c9-b8fb-dd6942078d72"
   },
   "outputs": [
    {
     "data": {
      "text/plain": [
       "array([[1],\n",
       "       [2],\n",
       "       [3]])"
      ]
     },
     "execution_count": 31,
     "metadata": {},
     "output_type": "execute_result"
    }
   ],
   "source": [
    "a"
   ]
  },
  {
   "cell_type": "code",
   "execution_count": null,
   "id": "06b9bd76-b31a-49ad-92fc-feb5bd97ef73",
   "metadata": {
    "id": "06b9bd76-b31a-49ad-92fc-feb5bd97ef73",
    "outputId": "56d2ce28-6770-4abc-9efa-c50688ea64a5"
   },
   "outputs": [
    {
     "data": {
      "text/plain": [
       "array([[2],\n",
       "       [3],\n",
       "       [1]])"
      ]
     },
     "execution_count": 33,
     "metadata": {},
     "output_type": "execute_result"
    }
   ],
   "source": [
    "np.roll(a, -1)"
   ]
  },
  {
   "cell_type": "code",
   "execution_count": null,
   "id": "c6b36ccc-ad13-49eb-b37c-475464bb62d7",
   "metadata": {
    "id": "c6b36ccc-ad13-49eb-b37c-475464bb62d7",
    "outputId": "e633b3d3-331f-40d7-ff5f-b086b6c45721"
   },
   "outputs": [
    {
     "data": {
      "text/plain": [
       "array([[3],\n",
       "       [1],\n",
       "       [2]])"
      ]
     },
     "execution_count": 34,
     "metadata": {},
     "output_type": "execute_result"
    }
   ],
   "source": [
    "np.roll(a, -2)"
   ]
  },
  {
   "cell_type": "code",
   "execution_count": null,
   "id": "7fedfde5-93ee-4ab4-8333-c5096b9f7cbc",
   "metadata": {
    "id": "7fedfde5-93ee-4ab4-8333-c5096b9f7cbc"
   },
   "outputs": [],
   "source": [
    "c = np.array([[1,2], [3, 4], [5,6], [7,8]])"
   ]
  },
  {
   "cell_type": "code",
   "execution_count": null,
   "id": "a89a7cda-4667-451c-a6ff-316babfb3cf8",
   "metadata": {
    "id": "a89a7cda-4667-451c-a6ff-316babfb3cf8",
    "outputId": "7dfed1e2-8dbc-4f57-8d95-e41daa7aaafa"
   },
   "outputs": [
    {
     "data": {
      "text/plain": [
       "array([[1, 2],\n",
       "       [3, 4],\n",
       "       [5, 6],\n",
       "       [7, 8]])"
      ]
     },
     "execution_count": 38,
     "metadata": {},
     "output_type": "execute_result"
    }
   ],
   "source": [
    "c"
   ]
  },
  {
   "cell_type": "code",
   "execution_count": null,
   "id": "a0d855d8-8b27-44cd-af27-87b33b99ddf0",
   "metadata": {
    "id": "a0d855d8-8b27-44cd-af27-87b33b99ddf0",
    "outputId": "beb89faa-1243-48e3-b2fb-a005e3102686"
   },
   "outputs": [
    {
     "data": {
      "text/plain": [
       "array([[7, 8],\n",
       "       [1, 2],\n",
       "       [3, 4],\n",
       "       [5, 6]])"
      ]
     },
     "execution_count": 40,
     "metadata": {},
     "output_type": "execute_result"
    }
   ],
   "source": [
    "np.roll(c, 2)"
   ]
  },
  {
   "cell_type": "code",
   "execution_count": null,
   "id": "fe905514-d159-45f9-a6fa-e3beedda36a9",
   "metadata": {
    "id": "fe905514-d159-45f9-a6fa-e3beedda36a9",
    "outputId": "69773df1-f7e1-4909-a2ab-e90e14050e96"
   },
   "outputs": [
    {
     "data": {
      "text/plain": [
       "array([[5, 6],\n",
       "       [7, 8],\n",
       "       [1, 2],\n",
       "       [3, 4]])"
      ]
     },
     "execution_count": 41,
     "metadata": {},
     "output_type": "execute_result"
    }
   ],
   "source": [
    "np.roll(c, 2, axis=0)"
   ]
  },
  {
   "cell_type": "code",
   "execution_count": null,
   "id": "79aeaa5c-1386-4eef-82c8-c736f93e2547",
   "metadata": {
    "id": "79aeaa5c-1386-4eef-82c8-c736f93e2547",
    "outputId": "40d86977-ddb1-48fd-902b-92899f57e6fb"
   },
   "outputs": [
    {
     "data": {
      "text/plain": [
       "array([[2, 1, 2],\n",
       "       [1, 2, 2],\n",
       "       [1, 1, 2]])"
      ]
     },
     "execution_count": 42,
     "metadata": {},
     "output_type": "execute_result"
    }
   ],
   "source": [
    "arr1"
   ]
  },
  {
   "cell_type": "code",
   "execution_count": null,
   "id": "e88352ec-5dbd-4c02-83a7-1ec76df9372e",
   "metadata": {
    "id": "e88352ec-5dbd-4c02-83a7-1ec76df9372e",
    "outputId": "3907ebc6-2afe-4b5e-ed17-60c24ebeda9a"
   },
   "outputs": [
    {
     "data": {
      "text/plain": [
       "array([[1, 2, 2],\n",
       "       [2, 1, 2],\n",
       "       [1, 1, 2]])"
      ]
     },
     "execution_count": 43,
     "metadata": {},
     "output_type": "execute_result"
    }
   ],
   "source": [
    "arr2"
   ]
  },
  {
   "cell_type": "code",
   "execution_count": null,
   "id": "7f16ebff-019b-4b09-a702-0b1170c118d7",
   "metadata": {
    "id": "7f16ebff-019b-4b09-a702-0b1170c118d7",
    "outputId": "653fa87c-080c-4e5c-c4a7-5e08eb9ab364"
   },
   "outputs": [
    {
     "data": {
      "text/plain": [
       "array([[3, 3, 4],\n",
       "       [3, 3, 4],\n",
       "       [2, 2, 4]])"
      ]
     },
     "execution_count": 44,
     "metadata": {},
     "output_type": "execute_result"
    }
   ],
   "source": [
    "arr1 + arr2"
   ]
  },
  {
   "cell_type": "code",
   "execution_count": null,
   "id": "4a6fb1a5-a9d6-48b0-af24-d6c531669c68",
   "metadata": {
    "id": "4a6fb1a5-a9d6-48b0-af24-d6c531669c68",
    "outputId": "69d8ab71-8370-4171-b3f3-36d16c90f3b2"
   },
   "outputs": [
    {
     "data": {
      "text/plain": [
       "array([[ 1, -1,  0],\n",
       "       [-1,  1,  0],\n",
       "       [ 0,  0,  0]])"
      ]
     },
     "execution_count": 45,
     "metadata": {},
     "output_type": "execute_result"
    }
   ],
   "source": [
    "arr1-arr2"
   ]
  },
  {
   "cell_type": "code",
   "execution_count": null,
   "id": "13b9cdde-9e42-4d3f-b5de-97a90f824c69",
   "metadata": {
    "id": "13b9cdde-9e42-4d3f-b5de-97a90f824c69",
    "outputId": "74defd8a-6624-43c4-8207-92331c6e0f8c"
   },
   "outputs": [
    {
     "data": {
      "text/plain": [
       "array([[2, 2, 4],\n",
       "       [2, 2, 4],\n",
       "       [1, 1, 4]])"
      ]
     },
     "execution_count": 46,
     "metadata": {},
     "output_type": "execute_result"
    }
   ],
   "source": [
    "arr1 * arr2"
   ]
  },
  {
   "cell_type": "code",
   "execution_count": null,
   "id": "8009579c-d509-4e0e-a511-306a2de4d403",
   "metadata": {
    "id": "8009579c-d509-4e0e-a511-306a2de4d403",
    "outputId": "e926fad0-15d0-4491-c72e-b9e890dd2539"
   },
   "outputs": [
    {
     "data": {
      "text/plain": [
       "array([[ True, False, False],\n",
       "       [False,  True, False],\n",
       "       [False, False, False]])"
      ]
     },
     "execution_count": 47,
     "metadata": {},
     "output_type": "execute_result"
    }
   ],
   "source": [
    "arr1 > arr2"
   ]
  },
  {
   "cell_type": "code",
   "execution_count": null,
   "id": "5f9c5a5b-3c07-49f8-b948-e10207c49dda",
   "metadata": {
    "id": "5f9c5a5b-3c07-49f8-b948-e10207c49dda",
    "outputId": "320a31b8-d310-47e2-9d4f-30e42479c228"
   },
   "outputs": [
    {
     "data": {
      "text/plain": [
       "array([[2, 1, 2],\n",
       "       [1, 2, 2],\n",
       "       [1, 1, 2]])"
      ]
     },
     "execution_count": 48,
     "metadata": {},
     "output_type": "execute_result"
    }
   ],
   "source": [
    "arr1"
   ]
  },
  {
   "cell_type": "code",
   "execution_count": null,
   "id": "fa33871d-feba-42f8-bc4e-d621a5bbb5a0",
   "metadata": {
    "id": "fa33871d-feba-42f8-bc4e-d621a5bbb5a0",
    "outputId": "4d133d49-a3f0-4d05-cfc5-64854c5df301"
   },
   "outputs": [
    {
     "data": {
      "text/plain": [
       "array([[-3, -2, -3],\n",
       "       [-2, -3, -3],\n",
       "       [-2, -2, -3]])"
      ]
     },
     "execution_count": 49,
     "metadata": {},
     "output_type": "execute_result"
    }
   ],
   "source": [
    "~arr1"
   ]
  },
  {
   "cell_type": "code",
   "execution_count": null,
   "id": "24c3ba23-ea77-460f-87ae-8b176a9aaab6",
   "metadata": {
    "id": "24c3ba23-ea77-460f-87ae-8b176a9aaab6"
   },
   "outputs": [],
   "source": [
    "#operations on numpy string array"
   ]
  },
  {
   "cell_type": "code",
   "execution_count": null,
   "id": "401ed862-a480-4eee-97d8-731f6ae48046",
   "metadata": {
    "id": "401ed862-a480-4eee-97d8-731f6ae48046"
   },
   "outputs": [],
   "source": [
    "d = np.array([\"pw\", \"skills\"])"
   ]
  },
  {
   "cell_type": "code",
   "execution_count": null,
   "id": "466ddce2-c38e-419d-b452-15b37385f8e1",
   "metadata": {
    "id": "466ddce2-c38e-419d-b452-15b37385f8e1",
    "outputId": "d76b67be-5ac6-4680-a2b5-5893571be1fa"
   },
   "outputs": [
    {
     "data": {
      "text/plain": [
       "array(['pw', 'skills'], dtype='<U6')"
      ]
     },
     "execution_count": 52,
     "metadata": {},
     "output_type": "execute_result"
    }
   ],
   "source": [
    "d"
   ]
  },
  {
   "cell_type": "code",
   "execution_count": null,
   "id": "fce57bbc-6449-45d7-a0ac-484c885b53f2",
   "metadata": {
    "id": "fce57bbc-6449-45d7-a0ac-484c885b53f2",
    "outputId": "9af6860e-a326-4788-89c8-6a77c3237fc1"
   },
   "outputs": [
    {
     "data": {
      "text/plain": [
       "array(['PW', 'SKILLS'], dtype='<U6')"
      ]
     },
     "execution_count": 53,
     "metadata": {},
     "output_type": "execute_result"
    }
   ],
   "source": [
    "np.char.upper(d)"
   ]
  },
  {
   "cell_type": "code",
   "execution_count": null,
   "id": "94521a80-aa1a-4d2b-8a51-e64e7ba47784",
   "metadata": {
    "id": "94521a80-aa1a-4d2b-8a51-e64e7ba47784",
    "outputId": "4419591b-65d8-4c15-df53-72652239af62"
   },
   "outputs": [
    {
     "data": {
      "text/plain": [
       "array(['Pw', 'Skills'], dtype='<U6')"
      ]
     },
     "execution_count": 54,
     "metadata": {},
     "output_type": "execute_result"
    }
   ],
   "source": [
    "np.char.capitalize(d)"
   ]
  },
  {
   "cell_type": "code",
   "execution_count": null,
   "id": "6d21e451-02e7-4a8d-b933-3105795889a3",
   "metadata": {
    "id": "6d21e451-02e7-4a8d-b933-3105795889a3"
   },
   "outputs": [],
   "source": [
    "#mathematical functions"
   ]
  },
  {
   "cell_type": "code",
   "execution_count": null,
   "id": "3e7881b7-70c8-4a6a-84c7-f21ea5166589",
   "metadata": {
    "id": "3e7881b7-70c8-4a6a-84c7-f21ea5166589",
    "outputId": "de638bad-77cf-476d-f56a-346cbc303186"
   },
   "outputs": [
    {
     "data": {
      "text/plain": [
       "array([[2, 1, 2],\n",
       "       [1, 2, 2],\n",
       "       [1, 1, 2]])"
      ]
     },
     "execution_count": 56,
     "metadata": {},
     "output_type": "execute_result"
    }
   ],
   "source": [
    "arr1"
   ]
  },
  {
   "cell_type": "code",
   "execution_count": null,
   "id": "a4b1940d-0f6c-49a8-920c-9eee276bdc1a",
   "metadata": {
    "id": "a4b1940d-0f6c-49a8-920c-9eee276bdc1a",
    "outputId": "d8d3a37c-cbc1-4c2d-8da4-c508c82c1e08"
   },
   "outputs": [
    {
     "data": {
      "text/plain": [
       "array([[0.90929743, 0.84147098, 0.90929743],\n",
       "       [0.84147098, 0.90929743, 0.90929743],\n",
       "       [0.84147098, 0.84147098, 0.90929743]])"
      ]
     },
     "execution_count": 57,
     "metadata": {},
     "output_type": "execute_result"
    }
   ],
   "source": [
    "np.sin(arr1)"
   ]
  },
  {
   "cell_type": "code",
   "execution_count": null,
   "id": "e17e8809-8371-4d6d-aec7-c97cfc885738",
   "metadata": {
    "id": "e17e8809-8371-4d6d-aec7-c97cfc885738",
    "outputId": "be9d39db-afde-4d36-b7fa-33b901b91084"
   },
   "outputs": [
    {
     "data": {
      "text/plain": [
       "array([[-0.41614684,  0.54030231, -0.41614684],\n",
       "       [ 0.54030231, -0.41614684, -0.41614684],\n",
       "       [ 0.54030231,  0.54030231, -0.41614684]])"
      ]
     },
     "execution_count": 58,
     "metadata": {},
     "output_type": "execute_result"
    }
   ],
   "source": [
    "np.cos(arr1)"
   ]
  },
  {
   "cell_type": "code",
   "execution_count": null,
   "id": "3e03fd7f-1476-4315-a7bd-c4c36a82f5c4",
   "metadata": {
    "id": "3e03fd7f-1476-4315-a7bd-c4c36a82f5c4",
    "outputId": "9f6719c2-d578-41d0-cbc9-edaad0f9eb50"
   },
   "outputs": [
    {
     "data": {
      "text/plain": [
       "array([[-2.18503986,  1.55740772, -2.18503986],\n",
       "       [ 1.55740772, -2.18503986, -2.18503986],\n",
       "       [ 1.55740772,  1.55740772, -2.18503986]])"
      ]
     },
     "execution_count": 59,
     "metadata": {},
     "output_type": "execute_result"
    }
   ],
   "source": [
    "np.tan(arr1)"
   ]
  },
  {
   "cell_type": "code",
   "execution_count": null,
   "id": "99197271-8e89-4d54-a751-8ff275f81a51",
   "metadata": {
    "id": "99197271-8e89-4d54-a751-8ff275f81a51",
    "outputId": "45cb03d9-1830-4b4f-d117-441c443769f7"
   },
   "outputs": [
    {
     "data": {
      "text/plain": [
       "array([[0.30103, 0.     , 0.30103],\n",
       "       [0.     , 0.30103, 0.30103],\n",
       "       [0.     , 0.     , 0.30103]])"
      ]
     },
     "execution_count": 60,
     "metadata": {},
     "output_type": "execute_result"
    }
   ],
   "source": [
    "np.log10(arr1)"
   ]
  },
  {
   "cell_type": "code",
   "execution_count": null,
   "id": "527f4f04-85d1-421d-be46-b4ce35fd23f9",
   "metadata": {
    "id": "527f4f04-85d1-421d-be46-b4ce35fd23f9",
    "outputId": "018db353-8b16-4893-e730-74077039a4e4"
   },
   "outputs": [
    {
     "data": {
      "text/plain": [
       "array([[7.3890561 , 2.71828183, 7.3890561 ],\n",
       "       [2.71828183, 7.3890561 , 7.3890561 ],\n",
       "       [2.71828183, 2.71828183, 7.3890561 ]])"
      ]
     },
     "execution_count": 61,
     "metadata": {},
     "output_type": "execute_result"
    }
   ],
   "source": [
    "np.exp(arr1)"
   ]
  },
  {
   "cell_type": "code",
   "execution_count": null,
   "id": "3f50286f-d379-4226-92e9-f5014f9e4b01",
   "metadata": {
    "id": "3f50286f-d379-4226-92e9-f5014f9e4b01",
    "outputId": "40132feb-6d75-4661-f384-74708337208e"
   },
   "outputs": [
    {
     "data": {
      "text/plain": [
       "array([[8, 1, 8],\n",
       "       [1, 8, 8],\n",
       "       [1, 1, 8]])"
      ]
     },
     "execution_count": 62,
     "metadata": {},
     "output_type": "execute_result"
    }
   ],
   "source": [
    "np.power(arr1, 3)"
   ]
  },
  {
   "cell_type": "code",
   "execution_count": null,
   "id": "46f6185f-d1e6-47ac-8aec-4aed3d70b083",
   "metadata": {
    "id": "46f6185f-d1e6-47ac-8aec-4aed3d70b083",
    "outputId": "00d862e0-149a-4349-c9a6-72634147d39e"
   },
   "outputs": [
    {
     "data": {
      "text/plain": [
       "1.5555555555555556"
      ]
     },
     "execution_count": 63,
     "metadata": {},
     "output_type": "execute_result"
    }
   ],
   "source": [
    "np.mean(arr1)"
   ]
  },
  {
   "cell_type": "code",
   "execution_count": null,
   "id": "e35d2778-7de4-4ee4-bcdd-724ee9d6166a",
   "metadata": {
    "id": "e35d2778-7de4-4ee4-bcdd-724ee9d6166a",
    "outputId": "59c64c93-ac4a-4a6f-971e-30a15cf4a819"
   },
   "outputs": [
    {
     "data": {
      "text/plain": [
       "2"
      ]
     },
     "execution_count": 64,
     "metadata": {},
     "output_type": "execute_result"
    }
   ],
   "source": [
    "np.max(arr1)"
   ]
  },
  {
   "cell_type": "code",
   "execution_count": null,
   "id": "b4b959dd-ce8c-4622-a32b-63e0f558b50a",
   "metadata": {
    "id": "b4b959dd-ce8c-4622-a32b-63e0f558b50a",
    "outputId": "2736136a-152c-4acb-f9a5-5e7f900052c9"
   },
   "outputs": [
    {
     "data": {
      "text/plain": [
       "1"
      ]
     },
     "execution_count": 65,
     "metadata": {},
     "output_type": "execute_result"
    }
   ],
   "source": [
    "np.min(arr1)"
   ]
  },
  {
   "cell_type": "code",
   "execution_count": null,
   "id": "317ba50f-5fce-47eb-a596-cbbecec98214",
   "metadata": {
    "id": "317ba50f-5fce-47eb-a596-cbbecec98214",
    "outputId": "6053b69d-740c-47f8-a35a-b8da0080a9d7"
   },
   "outputs": [
    {
     "data": {
      "text/plain": [
       "0.4969039949999533"
      ]
     },
     "execution_count": 66,
     "metadata": {},
     "output_type": "execute_result"
    }
   ],
   "source": [
    "np.std(arr1)"
   ]
  },
  {
   "cell_type": "code",
   "execution_count": null,
   "id": "3bcb1287-7d57-40c1-b511-bbb276553fc5",
   "metadata": {
    "id": "3bcb1287-7d57-40c1-b511-bbb276553fc5",
    "outputId": "24587c6e-f455-4ac4-d409-e09245c9c515"
   },
   "outputs": [
    {
     "data": {
      "text/plain": [
       "0.2469135802469136"
      ]
     },
     "execution_count": 67,
     "metadata": {},
     "output_type": "execute_result"
    }
   ],
   "source": [
    "np.var(arr1)"
   ]
  },
  {
   "cell_type": "code",
   "execution_count": null,
   "id": "778d6de5-b2db-4f8f-9cf3-59cbd311d695",
   "metadata": {
    "id": "778d6de5-b2db-4f8f-9cf3-59cbd311d695",
    "outputId": "6090bf1f-a218-4847-f58b-961e5eebd060"
   },
   "outputs": [
    {
     "data": {
      "text/plain": [
       "array([[ 1, -1,  0],\n",
       "       [-1,  1,  0],\n",
       "       [ 0,  0,  0]])"
      ]
     },
     "execution_count": 68,
     "metadata": {},
     "output_type": "execute_result"
    }
   ],
   "source": [
    "arr1-arr2"
   ]
  },
  {
   "cell_type": "code",
   "execution_count": null,
   "id": "2b29cb55-4a80-4918-adc9-dfbb250bf9cd",
   "metadata": {
    "id": "2b29cb55-4a80-4918-adc9-dfbb250bf9cd",
    "outputId": "4aa3665f-af15-444c-937d-a18b9ce4a775"
   },
   "outputs": [
    {
     "data": {
      "text/plain": [
       "array([[ 1, -1,  0],\n",
       "       [-1,  1,  0],\n",
       "       [ 0,  0,  0]])"
      ]
     },
     "execution_count": 70,
     "metadata": {},
     "output_type": "execute_result"
    }
   ],
   "source": [
    "np.subtract(arr1, arr2)"
   ]
  },
  {
   "cell_type": "code",
   "execution_count": null,
   "id": "0851ca08-1af3-4a56-9fa9-62890a70cf76",
   "metadata": {
    "id": "0851ca08-1af3-4a56-9fa9-62890a70cf76",
    "outputId": "a8f4bc7d-8965-48f6-87ee-daa244fadf76"
   },
   "outputs": [
    {
     "data": {
      "text/plain": [
       "array([[2, 2, 4],\n",
       "       [2, 2, 4],\n",
       "       [1, 1, 4]])"
      ]
     },
     "execution_count": 71,
     "metadata": {},
     "output_type": "execute_result"
    }
   ],
   "source": [
    "arr1 *arr2"
   ]
  },
  {
   "cell_type": "code",
   "execution_count": null,
   "id": "3473192e-6f49-4902-b7e3-0696e0c9b409",
   "metadata": {
    "id": "3473192e-6f49-4902-b7e3-0696e0c9b409",
    "outputId": "53b8c439-7c02-4733-ad44-6dc020889be9"
   },
   "outputs": [
    {
     "data": {
      "text/plain": [
       "array([[2, 2, 4],\n",
       "       [2, 2, 4],\n",
       "       [1, 1, 4]])"
      ]
     },
     "execution_count": 72,
     "metadata": {},
     "output_type": "execute_result"
    }
   ],
   "source": [
    "np.multiply(arr1, arr2)"
   ]
  },
  {
   "cell_type": "code",
   "execution_count": null,
   "id": "e8eebcb9-3b66-4b5b-8a1e-a137e1cb7a38",
   "metadata": {
    "id": "e8eebcb9-3b66-4b5b-8a1e-a137e1cb7a38",
    "outputId": "48358d81-64f8-46ee-b3d5-18989927da5d"
   },
   "outputs": [
    {
     "data": {
      "text/plain": [
       "array([[0, 1, 0],\n",
       "       [1, 0, 0],\n",
       "       [0, 0, 0]])"
      ]
     },
     "execution_count": 73,
     "metadata": {},
     "output_type": "execute_result"
    }
   ],
   "source": [
    "np.mod(arr1, arr2) #return elment wise remainder"
   ]
  },
  {
   "cell_type": "code",
   "execution_count": null,
   "id": "a74820dd-b1c0-4afa-909c-3ca4d2ee8cfd",
   "metadata": {
    "id": "a74820dd-b1c0-4afa-909c-3ca4d2ee8cfd",
    "outputId": "98c94762-3eff-41bf-fabb-dc0b6128b267"
   },
   "outputs": [
    {
     "data": {
      "text/plain": [
       "array([[1.41421356, 1.        , 1.41421356],\n",
       "       [1.        , 1.41421356, 1.41421356],\n",
       "       [1.        , 1.        , 1.41421356]])"
      ]
     },
     "execution_count": 74,
     "metadata": {},
     "output_type": "execute_result"
    }
   ],
   "source": [
    "np.sqrt(arr1)"
   ]
  },
  {
   "cell_type": "code",
   "execution_count": null,
   "id": "aea3eb20-cc8b-4305-987b-1e75a2cafc8f",
   "metadata": {
    "id": "aea3eb20-cc8b-4305-987b-1e75a2cafc8f"
   },
   "outputs": [],
   "source": [
    "#sort search\n",
    "\n",
    "e = np.array([5, 6, 1, 2])"
   ]
  },
  {
   "cell_type": "code",
   "execution_count": null,
   "id": "a4c5c72e-d420-4dab-a8ca-db220b1a174e",
   "metadata": {
    "id": "a4c5c72e-d420-4dab-a8ca-db220b1a174e",
    "outputId": "3be2a2f7-f3e1-4f2b-d94e-72d3c3200278"
   },
   "outputs": [
    {
     "data": {
      "text/plain": [
       "array([5, 6, 1, 2])"
      ]
     },
     "execution_count": 76,
     "metadata": {},
     "output_type": "execute_result"
    }
   ],
   "source": [
    "e"
   ]
  },
  {
   "cell_type": "code",
   "execution_count": null,
   "id": "c5a6ac21-ee5e-41b4-9605-c2624ad36324",
   "metadata": {
    "id": "c5a6ac21-ee5e-41b4-9605-c2624ad36324",
    "outputId": "c2e87aaf-5c01-442e-da46-6a8144f240c4"
   },
   "outputs": [
    {
     "data": {
      "text/plain": [
       "array([1, 2, 5, 6])"
      ]
     },
     "execution_count": 77,
     "metadata": {},
     "output_type": "execute_result"
    }
   ],
   "source": [
    "np.sort(e)"
   ]
  },
  {
   "cell_type": "code",
   "execution_count": null,
   "id": "c49e8af6-2097-4ff1-92f3-7daf92df0d25",
   "metadata": {
    "id": "c49e8af6-2097-4ff1-92f3-7daf92df0d25"
   },
   "outputs": [],
   "source": [
    "f = np.array([5, 199, 200, 6, 7, 8])"
   ]
  },
  {
   "cell_type": "code",
   "execution_count": null,
   "id": "8ddc7d5c-ed28-480f-869a-638cb19f38e5",
   "metadata": {
    "id": "8ddc7d5c-ed28-480f-869a-638cb19f38e5",
    "outputId": "45c2a43b-92da-48a0-9e96-adfdb0edf6d5"
   },
   "outputs": [
    {
     "data": {
      "text/plain": [
       "array([  5, 199, 200,   6,   7,   8])"
      ]
     },
     "execution_count": 79,
     "metadata": {},
     "output_type": "execute_result"
    }
   ],
   "source": [
    "f"
   ]
  },
  {
   "cell_type": "code",
   "execution_count": null,
   "id": "ca1b8f54-aa96-42b6-9cd3-b767d46cf63c",
   "metadata": {
    "id": "ca1b8f54-aa96-42b6-9cd3-b767d46cf63c",
    "outputId": "a997a11c-042a-4927-e894-1b953356a6f6"
   },
   "outputs": [
    {
     "data": {
      "text/plain": [
       "array([  5,   6,   7,   8, 199, 200])"
      ]
     },
     "execution_count": 80,
     "metadata": {},
     "output_type": "execute_result"
    }
   ],
   "source": [
    "np.sort(f)"
   ]
  },
  {
   "cell_type": "code",
   "execution_count": null,
   "id": "cafed3b1-93b2-4f62-9615-6182f6656b9b",
   "metadata": {
    "id": "cafed3b1-93b2-4f62-9615-6182f6656b9b",
    "outputId": "f390bff8-638a-4f3e-c97a-076da076cb6c"
   },
   "outputs": [
    {
     "data": {
      "text/plain": [
       "6"
      ]
     },
     "execution_count": 81,
     "metadata": {},
     "output_type": "execute_result"
    }
   ],
   "source": [
    "np.searchsorted(f, 170) #Find indices where elements should be inserted to maintain order."
   ]
  },
  {
   "cell_type": "code",
   "execution_count": null,
   "id": "d509adb4-0cb7-4914-8da0-f8678b277719",
   "metadata": {
    "id": "d509adb4-0cb7-4914-8da0-f8678b277719"
   },
   "outputs": [],
   "source": [
    "f = np.array([5, 199, 200, 6, 7, 0, 0, 0, 8])"
   ]
  },
  {
   "cell_type": "code",
   "execution_count": null,
   "id": "fb855a73-0c2f-4f8d-888e-938b170b3fa5",
   "metadata": {
    "id": "fb855a73-0c2f-4f8d-888e-938b170b3fa5",
    "outputId": "42fd118c-1335-4026-fce7-6ed75b785220"
   },
   "outputs": [
    {
     "data": {
      "text/plain": [
       "array([  5, 199, 200,   6,   7,   0,   0,   0,   8])"
      ]
     },
     "execution_count": 84,
     "metadata": {},
     "output_type": "execute_result"
    }
   ],
   "source": [
    "f"
   ]
  },
  {
   "cell_type": "code",
   "execution_count": null,
   "id": "637b37ed-97df-4d52-b61f-3fc699986a43",
   "metadata": {
    "id": "637b37ed-97df-4d52-b61f-3fc699986a43",
    "outputId": "94294eb9-4d74-4b8a-dc31-552cb2d77e78"
   },
   "outputs": [
    {
     "data": {
      "text/plain": [
       "6"
      ]
     },
     "execution_count": 85,
     "metadata": {},
     "output_type": "execute_result"
    }
   ],
   "source": [
    "np.count_nonzero(f)"
   ]
  },
  {
   "cell_type": "code",
   "execution_count": null,
   "id": "b9a36257-8cd7-4dfb-922b-bef53e6b8032",
   "metadata": {
    "id": "b9a36257-8cd7-4dfb-922b-bef53e6b8032",
    "outputId": "aa5c8f9f-70ef-4339-b62a-8ee6da3ab41b"
   },
   "outputs": [
    {
     "data": {
      "text/plain": [
       "array([  5, 199, 200,   6,   7,   8])"
      ]
     },
     "execution_count": 88,
     "metadata": {},
     "output_type": "execute_result"
    }
   ],
   "source": [
    "f[f > 0]"
   ]
  },
  {
   "cell_type": "code",
   "execution_count": null,
   "id": "bdde1e0d-4362-45bc-85ac-fe4b95602600",
   "metadata": {
    "id": "bdde1e0d-4362-45bc-85ac-fe4b95602600",
    "outputId": "3759c398-a0f3-4d22-c97c-a7a5ea78acab"
   },
   "outputs": [
    {
     "data": {
      "text/plain": [
       "(array([0, 1, 2, 3, 4, 8]),)"
      ]
     },
     "execution_count": 90,
     "metadata": {},
     "output_type": "execute_result"
    }
   ],
   "source": [
    "np.where(f>0)"
   ]
  },
  {
   "cell_type": "code",
   "execution_count": null,
   "id": "970405b9-8264-40e1-b36e-32babfbd7c01",
   "metadata": {
    "id": "970405b9-8264-40e1-b36e-32babfbd7c01",
    "outputId": "d700c3d4-f5d5-495c-92e4-b3ab822d2774"
   },
   "outputs": [
    {
     "data": {
      "text/plain": [
       "array([  5, 199, 200,   6,   7,   8])"
      ]
     },
     "execution_count": 91,
     "metadata": {},
     "output_type": "execute_result"
    }
   ],
   "source": [
    "np.extract(f>0, f)"
   ]
  },
  {
   "cell_type": "code",
   "execution_count": null,
   "id": "6b3edb84-a952-4fb6-9bce-822db59e8c4e",
   "metadata": {
    "id": "6b3edb84-a952-4fb6-9bce-822db59e8c4e",
    "outputId": "71e260b1-dc00-495e-c696-68969c489cfe"
   },
   "outputs": [
    {
     "data": {
      "text/plain": [
       "array([  5, 199, 200,   6,   7,   0,   0,   0,   8])"
      ]
     },
     "execution_count": 92,
     "metadata": {},
     "output_type": "execute_result"
    }
   ],
   "source": [
    "f"
   ]
  },
  {
   "cell_type": "code",
   "execution_count": null,
   "id": "41f0123b-8d1c-4efa-b9ff-e563fcd93009",
   "metadata": {
    "id": "41f0123b-8d1c-4efa-b9ff-e563fcd93009",
    "outputId": "b2047992-6099-4bca-ce65-232ae9a9c3fd"
   },
   "outputs": [
    {
     "data": {
      "text/plain": [
       "array([  360287970189639680, -4107282860161892352, -4035225266123964416,\n",
       "         432345564227567616,   504403158265495552,                    0,\n",
       "                          0,                    0,   576460752303423488])"
      ]
     },
     "execution_count": 93,
     "metadata": {},
     "output_type": "execute_result"
    }
   ],
   "source": [
    "f.byteswap()"
   ]
  },
  {
   "cell_type": "code",
   "execution_count": null,
   "id": "bb9324d8-d72b-4f8a-98a4-7752a7130ff6",
   "metadata": {
    "id": "bb9324d8-d72b-4f8a-98a4-7752a7130ff6"
   },
   "outputs": [],
   "source": [
    "#matrix>> 2d array\n",
    "\n",
    "import numpy.matlib as nm"
   ]
  },
  {
   "cell_type": "code",
   "execution_count": null,
   "id": "fdc54650-a2d1-40c0-9445-1c895551184f",
   "metadata": {
    "id": "fdc54650-a2d1-40c0-9445-1c895551184f",
    "outputId": "f90f3409-91fe-49b2-a5ee-f38604fc3ac0"
   },
   "outputs": [
    {
     "data": {
      "text/plain": [
       "matrix([[0., 0., 0., 0., 0.]])"
      ]
     },
     "execution_count": 95,
     "metadata": {},
     "output_type": "execute_result"
    }
   ],
   "source": [
    "nm.zeros(5)"
   ]
  },
  {
   "cell_type": "code",
   "execution_count": null,
   "id": "617444a0-d867-4588-a27a-42d559777851",
   "metadata": {
    "id": "617444a0-d867-4588-a27a-42d559777851",
    "outputId": "65b47ac2-9ead-495b-f0d2-83909080853d"
   },
   "outputs": [
    {
     "data": {
      "text/plain": [
       "matrix([[1., 1., 1., 1.],\n",
       "        [1., 1., 1., 1.],\n",
       "        [1., 1., 1., 1.]])"
      ]
     },
     "execution_count": 97,
     "metadata": {},
     "output_type": "execute_result"
    }
   ],
   "source": [
    "nm.ones((3, 4))"
   ]
  },
  {
   "cell_type": "code",
   "execution_count": null,
   "id": "42e8b523-6bfd-41b9-92d0-aba09a7e11fc",
   "metadata": {
    "id": "42e8b523-6bfd-41b9-92d0-aba09a7e11fc"
   },
   "outputs": [],
   "source": [
    "#numpy linear algebra\n",
    "\n",
    "arr1 = np.random.randint(1, 10, (3, 3))\n",
    "arr2 = np.random.randint(1, 10, (3, 3))"
   ]
  },
  {
   "cell_type": "code",
   "execution_count": null,
   "id": "1993c748-cb76-41f9-8853-fb1ba3f5184f",
   "metadata": {
    "id": "1993c748-cb76-41f9-8853-fb1ba3f5184f",
    "outputId": "9c203d16-8612-4fe7-c6a9-bdd29cfc3459"
   },
   "outputs": [
    {
     "data": {
      "text/plain": [
       "array([[4, 5, 3],\n",
       "       [6, 7, 4],\n",
       "       [6, 5, 8]])"
      ]
     },
     "execution_count": 103,
     "metadata": {},
     "output_type": "execute_result"
    }
   ],
   "source": [
    "arr1"
   ]
  },
  {
   "cell_type": "code",
   "execution_count": null,
   "id": "2be907c6-0fbf-4d0f-8d80-f4f1568f24d1",
   "metadata": {
    "id": "2be907c6-0fbf-4d0f-8d80-f4f1568f24d1",
    "outputId": "2fe6e2ff-e08c-45e7-df33-4174d8f78e55"
   },
   "outputs": [
    {
     "data": {
      "text/plain": [
       "array([[8, 1, 9],\n",
       "       [6, 5, 4],\n",
       "       [9, 7, 6]])"
      ]
     },
     "execution_count": 104,
     "metadata": {},
     "output_type": "execute_result"
    }
   ],
   "source": [
    "arr2"
   ]
  },
  {
   "cell_type": "code",
   "execution_count": null,
   "id": "9df1a858-effc-4f93-9a8d-a59a3c2b4cf4",
   "metadata": {
    "id": "9df1a858-effc-4f93-9a8d-a59a3c2b4cf4",
    "outputId": "acd66387-b62f-4729-ad16-1f5725e15876"
   },
   "outputs": [
    {
     "data": {
      "text/plain": [
       "array([[ 89,  50,  74],\n",
       "       [126,  69, 106],\n",
       "       [150,  87, 122]])"
      ]
     },
     "execution_count": 105,
     "metadata": {},
     "output_type": "execute_result"
    }
   ],
   "source": [
    "arr1 @ arr2"
   ]
  },
  {
   "cell_type": "code",
   "execution_count": null,
   "id": "ff011e7e-2c20-4df8-9dae-e6078fe4ede5",
   "metadata": {
    "id": "ff011e7e-2c20-4df8-9dae-e6078fe4ede5",
    "outputId": "d467a318-29c3-45ca-aad7-86ac55e6dcf7"
   },
   "outputs": [
    {
     "data": {
      "text/plain": [
       "array([[4, 5, 3],\n",
       "       [6, 7, 4],\n",
       "       [6, 5, 8]])"
      ]
     },
     "execution_count": 106,
     "metadata": {},
     "output_type": "execute_result"
    }
   ],
   "source": [
    "arr1"
   ]
  },
  {
   "cell_type": "code",
   "execution_count": null,
   "id": "f5eeb924-b10f-4f6e-83fd-d02cc6cdc448",
   "metadata": {
    "id": "f5eeb924-b10f-4f6e-83fd-d02cc6cdc448",
    "outputId": "617c2d91-e15a-4268-c82e-bc31941e613c"
   },
   "outputs": [
    {
     "data": {
      "text/plain": [
       "-12.000000000000016"
      ]
     },
     "execution_count": 107,
     "metadata": {},
     "output_type": "execute_result"
    }
   ],
   "source": [
    "np.linalg.det(arr1)"
   ]
  },
  {
   "cell_type": "code",
   "execution_count": null,
   "id": "cf1e939e-fe52-4a11-9b73-96a36fdb076a",
   "metadata": {
    "id": "cf1e939e-fe52-4a11-9b73-96a36fdb076a",
    "outputId": "5f415db7-b459-4648-a884-7debf008591d"
   },
   "outputs": [
    {
     "data": {
      "text/plain": [
       "array([[-3.        ,  2.08333333,  0.08333333],\n",
       "       [ 2.        , -1.16666667, -0.16666667],\n",
       "       [ 1.        , -0.83333333,  0.16666667]])"
      ]
     },
     "execution_count": 108,
     "metadata": {},
     "output_type": "execute_result"
    }
   ],
   "source": [
    "np.linalg.inv(arr1)"
   ]
  },
  {
   "cell_type": "code",
   "execution_count": null,
   "id": "aaa52858-c6dd-425c-8337-463d976fd709",
   "metadata": {
    "id": "aaa52858-c6dd-425c-8337-463d976fd709"
   },
   "outputs": [],
   "source": [
    "a = np.array([[7, 5.3, -3], [3, -5, 2], [5, 3, -7]])"
   ]
  },
  {
   "cell_type": "code",
   "execution_count": null,
   "id": "c9c8f37a-7b3d-4d8e-b1b8-89e1fcd498e9",
   "metadata": {
    "id": "c9c8f37a-7b3d-4d8e-b1b8-89e1fcd498e9",
    "outputId": "da2e1f13-8217-4f00-f78e-92a5c6f8a6e3"
   },
   "outputs": [
    {
     "data": {
      "text/plain": [
       "array([[ 7. ,  5.3, -3. ],\n",
       "       [ 3. , -5. ,  2. ],\n",
       "       [ 5. ,  3. , -7. ]])"
      ]
     },
     "execution_count": 110,
     "metadata": {},
     "output_type": "execute_result"
    }
   ],
   "source": [
    "a"
   ]
  },
  {
   "cell_type": "code",
   "execution_count": null,
   "id": "7a7c7715-1b12-45cd-b7f0-3d1a7d8862cc",
   "metadata": {
    "id": "7a7c7715-1b12-45cd-b7f0-3d1a7d8862cc"
   },
   "outputs": [],
   "source": [
    "b = np.array([16, 8, 0])"
   ]
  },
  {
   "cell_type": "code",
   "execution_count": null,
   "id": "abfbfbe2-666e-4628-b900-da17a4187151",
   "metadata": {
    "id": "abfbfbe2-666e-4628-b900-da17a4187151",
    "outputId": "ec87fc6e-57df-459d-dda8-d80cb80da62e"
   },
   "outputs": [
    {
     "data": {
      "text/plain": [
       "array([16,  8,  0])"
      ]
     },
     "execution_count": 112,
     "metadata": {},
     "output_type": "execute_result"
    }
   ],
   "source": [
    "b"
   ]
  },
  {
   "cell_type": "code",
   "execution_count": null,
   "id": "107d0189-f0bc-4f21-8023-bb74afa3042d",
   "metadata": {
    "id": "107d0189-f0bc-4f21-8023-bb74afa3042d",
    "outputId": "40e98909-d6ef-4975-ebff-23514ade71f1"
   },
   "outputs": [
    {
     "data": {
      "text/plain": [
       "array([2.59630607, 0.84432718, 2.21635884])"
      ]
     },
     "execution_count": 113,
     "metadata": {},
     "output_type": "execute_result"
    }
   ],
   "source": [
    "np.linalg.solve(a, b)"
   ]
  },
  {
   "cell_type": "code",
   "execution_count": null,
   "id": "6be97b57-fce6-4c04-aba2-62d12cc61039",
   "metadata": {
    "id": "6be97b57-fce6-4c04-aba2-62d12cc61039"
   },
   "outputs": [],
   "source": []
  }
 ],
 "metadata": {
  "colab": {
   "provenance": []
  },
  "kernelspec": {
   "display_name": "Python 3 (ipykernel)",
   "language": "python",
   "name": "python3"
  },
  "language_info": {
   "codemirror_mode": {
    "name": "ipython",
    "version": 3
   },
   "file_extension": ".py",
   "mimetype": "text/x-python",
   "name": "python",
   "nbconvert_exporter": "python",
   "pygments_lexer": "ipython3",
   "version": "3.10.8"
  }
 },
 "nbformat": 4,
 "nbformat_minor": 5
}
